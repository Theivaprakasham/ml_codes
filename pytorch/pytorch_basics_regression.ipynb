{
  "nbformat": 4,
  "nbformat_minor": 0,
  "metadata": {
    "kernelspec": {
      "display_name": "Python 3",
      "language": "python",
      "name": "python3"
    },
    "language_info": {
      "name": "python",
      "version": "3.6.6",
      "mimetype": "text/x-python",
      "codemirror_mode": {
        "name": "ipython",
        "version": 3
      },
      "pygments_lexer": "ipython3",
      "nbconvert_exporter": "python",
      "file_extension": ".py"
    },
    "colab": {
      "provenance": [],
      "collapsed_sections": [],
      "machine_shape": "hm"
    },
    "accelerator": "GPU",
    "gpuClass": "standard"
  },
  "cells": [
    {
      "cell_type": "markdown",
      "metadata": {
        "_uuid": "8f2839f25d086af736a60e9eeb907d3b93b6e0e5",
        "_cell_guid": "b1076dfc-b9ad-4769-8c92-a6c4dae69d19",
        "trusted": true,
        "id": "mKuQ5EuaLOtD"
      },
      "source": [
        "# PyTorch basics - Linear Regression from scratch\n",
        "\n",
        "<!-- <iframe width=\"560\" height=\"315\" src=\"https://www.youtube.com/embed/ECHX1s0Kk-o?controls=0\" frameborder=\"0\" allow=\"accelerometer; autoplay; encrypted-media; gyroscope; picture-in-picture\" allowfullscreen></iframe> -->\n",
        "\n",
        "\n",
        "## Machine Learning\n",
        "\n",
        "<img src=\"https://i.imgur.com/oJEQe7k.png\" width=\"500\">\n",
        "\n",
        "\n",
        "## Tensors & Gradients"
      ]
    },
    {
      "cell_type": "code",
      "metadata": {
        "colab": {
          "base_uri": "https://localhost:8080/"
        },
        "id": "VLiSMEA7A9Ek",
        "outputId": "71e8794c-02fe-4778-c4a6-a7d418b8fa04"
      },
      "source": [
        "!nvidia-smi "
      ],
      "execution_count": null,
      "outputs": [
        {
          "output_type": "stream",
          "name": "stdout",
          "text": [
            "Fri Sep  2 21:29:37 2022       \n",
            "+-----------------------------------------------------------------------------+\n",
            "| NVIDIA-SMI 460.32.03    Driver Version: 460.32.03    CUDA Version: 11.2     |\n",
            "|-------------------------------+----------------------+----------------------+\n",
            "| GPU  Name        Persistence-M| Bus-Id        Disp.A | Volatile Uncorr. ECC |\n",
            "| Fan  Temp  Perf  Pwr:Usage/Cap|         Memory-Usage | GPU-Util  Compute M. |\n",
            "|                               |                      |               MIG M. |\n",
            "|===============================+======================+======================|\n",
            "|   0  Tesla V100-SXM2...  Off  | 00000000:00:04.0 Off |                    0 |\n",
            "| N/A   34C    P0    25W / 300W |      0MiB / 16160MiB |      0%      Default |\n",
            "|                               |                      |                  N/A |\n",
            "+-------------------------------+----------------------+----------------------+\n",
            "                                                                               \n",
            "+-----------------------------------------------------------------------------+\n",
            "| Processes:                                                                  |\n",
            "|  GPU   GI   CI        PID   Type   Process name                  GPU Memory |\n",
            "|        ID   ID                                                   Usage      |\n",
            "|=============================================================================|\n",
            "|  No running processes found                                                 |\n",
            "+-----------------------------------------------------------------------------+\n"
          ]
        }
      ]
    },
    {
      "cell_type": "code",
      "metadata": {
        "_cell_guid": "79c7e3d0-c299-4dcb-8224-4455121ee9b0",
        "_uuid": "d629ff2d2480ee46fbb7e2d37f6b5fab8052498a",
        "trusted": true,
        "id": "LtBwyWdhLOtM"
      },
      "source": [
        "# Import Numpy & PyTorch\n",
        "import numpy as np\n",
        "import torch"
      ],
      "execution_count": null,
      "outputs": []
    },
    {
      "cell_type": "markdown",
      "metadata": {
        "_uuid": "34f006aa7eb4bbc683c39b7059021da900180908",
        "id": "jljc3ae_LOth"
      },
      "source": [
        "A tensor is a number, vector, matrix or any n-dimensional array."
      ]
    },
    {
      "cell_type": "code",
      "metadata": {
        "trusted": true,
        "_uuid": "e22be3f71825128f990e78959fa00d1331d344e4",
        "id": "KVUVb6RfLOtt"
      },
      "source": [
        "# Create tensors.\n",
        "x = torch.tensor(3.)\n",
        "w = torch.tensor(4., requires_grad=True)\n",
        "b = torch.tensor(5., requires_grad=True)"
      ],
      "execution_count": null,
      "outputs": []
    },
    {
      "cell_type": "code",
      "metadata": {
        "trusted": true,
        "_uuid": "3cb90767ff9bc2c12b72548b1a430984241d4910",
        "id": "uGSgg34vLOt_",
        "colab": {
          "base_uri": "https://localhost:8080/"
        },
        "outputId": "b413c9e5-cf3b-4271-fd7b-17e1f4b4ceeb"
      },
      "source": [
        "# Print tensors\n",
        "print(x)\n",
        "print(w)\n",
        "print(b)"
      ],
      "execution_count": null,
      "outputs": [
        {
          "output_type": "stream",
          "name": "stdout",
          "text": [
            "tensor(3.)\n",
            "tensor(4., requires_grad=True)\n",
            "tensor(5., requires_grad=True)\n"
          ]
        }
      ]
    },
    {
      "cell_type": "markdown",
      "metadata": {
        "_uuid": "66a939ee0ec472705acd3f23654bc3ccea1cc8b4",
        "id": "yRF84Wa2LOuQ"
      },
      "source": [
        "We can combine tensors with the usual arithmetic operations."
      ]
    },
    {
      "cell_type": "code",
      "metadata": {
        "trusted": true,
        "_uuid": "0bd8fdeb252742e3449b7a2f08bcb188645dc9cf",
        "id": "gRbQ_utCLOuS",
        "colab": {
          "base_uri": "https://localhost:8080/"
        },
        "outputId": "a054d7a4-c4c9-4b78-86bc-0e3da09eb0a0"
      },
      "source": [
        "# Arithmetic operations\n",
        "y = w * x *x + b\n",
        "print(y)"
      ],
      "execution_count": null,
      "outputs": [
        {
          "output_type": "stream",
          "name": "stdout",
          "text": [
            "tensor(41., grad_fn=<AddBackward0>)\n"
          ]
        }
      ]
    },
    {
      "cell_type": "markdown",
      "metadata": {
        "_uuid": "64e0f175c65c3e875c671c40e4a9bf495e30b772",
        "id": "n241tYxwLOug"
      },
      "source": [
        "What makes PyTorch special, is that we can automatically compute the derivative of `y` w.r.t. the tensors that have `requires_grad` set to `True` i.e. `w` and `b`."
      ]
    },
    {
      "cell_type": "code",
      "metadata": {
        "trusted": true,
        "_uuid": "6c98996f00294f99eb11989b5a9ecdbda31864e1",
        "id": "iZlclGQCLOui"
      },
      "source": [
        "# Compute gradients\n",
        "y.backward()"
      ],
      "execution_count": null,
      "outputs": []
    },
    {
      "cell_type": "code",
      "metadata": {
        "trusted": true,
        "_uuid": "47a62ffb26a76329e511f9f063c4c26cc6a7dc21",
        "id": "8-lbPSrfLOux",
        "colab": {
          "base_uri": "https://localhost:8080/"
        },
        "outputId": "f8d506af-ab12-4614-ef9f-999b1f5c518e"
      },
      "source": [
        "# Display gradients\n",
        "print('dy/dw:', w.grad)\n",
        "print('dy/db:', b.grad)"
      ],
      "execution_count": null,
      "outputs": [
        {
          "output_type": "stream",
          "name": "stdout",
          "text": [
            "dy/dw: tensor(9.)\n",
            "dy/db: tensor(1.)\n"
          ]
        }
      ]
    },
    {
      "cell_type": "markdown",
      "metadata": {
        "_uuid": "0b65b6bb4d15127b1d51f09abf616cfd29fa48b4",
        "id": "H8W6sBAoLOu-"
      },
      "source": [
        "## Problem Statement"
      ]
    },
    {
      "cell_type": "markdown",
      "metadata": {
        "_uuid": "c1beecda01bc332596edd193cade30006e3f6cbf",
        "id": "enO5Hk8vLOu_"
      },
      "source": [
        "We'll create a model that predicts crop yields for apples and oranges (*target variables*) by looking at the average temperature, rainfall and humidity (*input variables or features*) in a region. Here's the training data:\n",
        "\n",
        "<img src=\"https://i.imgur.com/lBguUV9.png\" width=\"500\" />\n",
        "\n",
        "In a **linear regression** model, each target variable is estimated to be a weighted sum of the input variables, offset by some constant, known as a bias :\n",
        "\n",
        "```\n",
        "yield_apple  = w11 * temp + w12 * rainfall + w13 * humidity + b1\n",
        "yield_orange = w21 * temp + w22 * rainfall + w23 * humidity + b2\n",
        "```\n",
        "\n",
        "Visually, it means that the yield of apples is a linear or planar function of the temperature, rainfall & humidity.\n",
        "\n",
        "<img src=\"https://i.imgur.com/mtkR2lB.png\" width=\"540\" >\n",
        "\n",
        "\n",
        "**Our objective**: Find a suitable set of *weights* and *biases* using the training data, to make accurate predictions."
      ]
    },
    {
      "cell_type": "markdown",
      "metadata": {
        "_uuid": "c24b8195c0e9c6e8e13e169d264484f1f9b3b1ae",
        "id": "VcmxCWbwLOvB"
      },
      "source": [
        "## Training Data\n",
        "The training data can be represented using 2 matrices (inputs and targets), each with one row per observation and one column per variable."
      ]
    },
    {
      "cell_type": "code",
      "metadata": {
        "trusted": true,
        "_uuid": "dfda99005fc6daf3a49ae1cdd427ccac0aa446b1",
        "id": "qLEpRjsqLOvD"
      },
      "source": [
        "# Input (temp, rainfall, humidity)\n",
        "inputs = np.array([\n",
        "                   [73, 67, 43], \n",
        "                   [91, 88, 64], \n",
        "                   [87, 134, 58], \n",
        "                   [102, 43, 37], \n",
        "                   [69, 96, 70]\n",
        "                   ], dtype='float32')"
      ],
      "execution_count": null,
      "outputs": []
    },
    {
      "cell_type": "code",
      "metadata": {
        "trusted": true,
        "_uuid": "bf56faf74f7e29c9ed7523308718a9ab1acc0667",
        "id": "LR271RkULOvM"
      },
      "source": [
        "# Targets (apples, oranges)\n",
        "targets = np.array([\n",
        "                    [56, 70], \n",
        "                    [81, 101], \n",
        "                    [119, 133], \n",
        "                    [22, 37], \n",
        "                    [103, 119]\n",
        "                    ], dtype='float32')"
      ],
      "execution_count": null,
      "outputs": []
    },
    {
      "cell_type": "markdown",
      "metadata": {
        "_uuid": "70d48f83ae4fce7aba7dd78fd58dddc77c598bfd",
        "id": "4n0Bqr3DLOvW"
      },
      "source": [
        "Before we build a model, we need to convert inputs and targets to PyTorch tensors."
      ]
    },
    {
      "cell_type": "code",
      "metadata": {
        "trusted": true,
        "_uuid": "931c1bad8788e607fa100d4338e1b1fe120e2339",
        "id": "Qi5NztrbLOvY",
        "colab": {
          "base_uri": "https://localhost:8080/"
        },
        "outputId": "69435805-59ee-4d73-ee1e-2dd7b3317a62"
      },
      "source": [
        "# Convert inputs and targets to tensors\n",
        "inputs = torch.from_numpy(inputs)\n",
        "targets = torch.from_numpy(targets)\n",
        "\n",
        "print(inputs)\n",
        "print(targets)"
      ],
      "execution_count": null,
      "outputs": [
        {
          "output_type": "stream",
          "name": "stdout",
          "text": [
            "tensor([[ 73.,  67.,  43.],\n",
            "        [ 91.,  88.,  64.],\n",
            "        [ 87., 134.,  58.],\n",
            "        [102.,  43.,  37.],\n",
            "        [ 69.,  96.,  70.]])\n",
            "tensor([[ 56.,  70.],\n",
            "        [ 81., 101.],\n",
            "        [119., 133.],\n",
            "        [ 22.,  37.],\n",
            "        [103., 119.]])\n"
          ]
        }
      ]
    },
    {
      "cell_type": "markdown",
      "metadata": {
        "_uuid": "652647cd90bd0784ec4dc53472410f7358ee18c9",
        "id": "MuiXODGALOvh"
      },
      "source": [
        "## Linear Regression Model (from scratch)\n",
        "\n",
        "The *weights* and *biases* can also be represented as matrices, initialized with random values. The first row of `w` and the first element of `b` are use to predict the first target variable i.e. yield for apples, and similarly the second for oranges."
      ]
    },
    {
      "cell_type": "code",
      "metadata": {
        "trusted": true,
        "_uuid": "6f788ae559355b3f01667be1554a5d2bdcade8db",
        "id": "gzWZjCcqLOvk",
        "colab": {
          "base_uri": "https://localhost:8080/"
        },
        "outputId": "a37c1073-90a2-4936-e123-0884e267598c"
      },
      "source": [
        "# Weights and biases\n",
        "w = torch.randn(2, 3, requires_grad=True)\n",
        "b = torch.randn(2, requires_grad=True)\n",
        "print(w)\n",
        "print(b)"
      ],
      "execution_count": null,
      "outputs": [
        {
          "output_type": "stream",
          "name": "stdout",
          "text": [
            "tensor([[-0.0416, -1.5300, -1.1840],\n",
            "        [ 0.2807, -1.0770,  1.0268]], requires_grad=True)\n",
            "tensor([-2.0518, -0.6338], requires_grad=True)\n"
          ]
        }
      ]
    },
    {
      "cell_type": "markdown",
      "metadata": {
        "_uuid": "3579a065997cae41f7f504916b6bc07878ac768c",
        "id": "j1WXDw1oLOvs"
      },
      "source": [
        "The *model* is simply a function that performs a matrix multiplication of the input `x` and the weights `w` (transposed) and adds the bias `b` (replicated for each observation).\n",
        "\n",
        "$$\n",
        "\\hspace{2.5cm} X \\hspace{1.1cm} \\times \\hspace{1.2cm} W^T \\hspace{1.2cm}  + \\hspace{1cm} b \\hspace{2cm}\n",
        "$$\n",
        "\n",
        "$$\n",
        "\\left[ \\begin{array}{cc}\n",
        "73 & 67 & 43 \\\\\n",
        "91 & 88 & 64 \\\\\n",
        "\\vdots & \\vdots & \\vdots \\\\\n",
        "69 & 96 & 70\n",
        "\\end{array} \\right]\n",
        "%\n",
        "\\times\n",
        "%\n",
        "\\left[ \\begin{array}{cc}\n",
        "w_{11} & w_{21} \\\\\n",
        "w_{12} & w_{22} \\\\\n",
        "w_{13} & w_{23}\n",
        "\\end{array} \\right]\n",
        "%\n",
        "+\n",
        "%\n",
        "\\left[ \\begin{array}{cc}\n",
        "b_{1} & b_{2} \\\\\n",
        "b_{1} & b_{2} \\\\\n",
        "\\vdots & \\vdots \\\\\n",
        "b_{1} & b_{2} \\\\\n",
        "\\end{array} \\right]\n",
        "$$"
      ]
    },
    {
      "cell_type": "code",
      "metadata": {
        "id": "jrbV2gfdAtJo",
        "colab": {
          "base_uri": "https://localhost:8080/"
        },
        "outputId": "8e285349-1bde-4d29-e8f9-7ccc9b8f691d"
      },
      "source": [
        "w"
      ],
      "execution_count": null,
      "outputs": [
        {
          "output_type": "execute_result",
          "data": {
            "text/plain": [
              "tensor([[-0.0416, -1.5300, -1.1840],\n",
              "        [ 0.2807, -1.0770,  1.0268]], requires_grad=True)"
            ]
          },
          "metadata": {},
          "execution_count": 12
        }
      ]
    },
    {
      "cell_type": "code",
      "metadata": {
        "trusted": true,
        "_uuid": "b1119f5ae9688a5f31dba438c7f78ca382deb7e3",
        "id": "6yuTz1UDLOvu"
      },
      "source": [
        "# Define the model\n",
        "def model(x):\n",
        "    return x @ w.t() + b"
      ],
      "execution_count": null,
      "outputs": []
    },
    {
      "cell_type": "markdown",
      "metadata": {
        "_uuid": "8e0a4644cb1c4ed68a3bcf67a8a156341ac7c853",
        "id": "YxdfM9rALOv5"
      },
      "source": [
        "The matrix obtained by passing the input data to the model is a set of predictions for the target variables."
      ]
    },
    {
      "cell_type": "code",
      "metadata": {
        "trusted": true,
        "_uuid": "b042a3cf8f16f4c4380cccbac9d0892719c24190",
        "id": "YpDVNJ6YLOv6",
        "colab": {
          "base_uri": "https://localhost:8080/"
        },
        "outputId": "40ae9605-194c-496d-fb60-5a3ec25e9cc8"
      },
      "source": [
        "# Generate predictions\n",
        "preds = model(inputs)\n",
        "print(preds)\n",
        "print(targets)"
      ],
      "execution_count": null,
      "outputs": [
        {
          "output_type": "stream",
          "name": "stdout",
          "text": [
            "tensor([[-158.5126,   -8.1468],\n",
            "        [-216.2565,   -4.1480],\n",
            "        [-279.3681,  -60.9721],\n",
            "        [-115.8926,   19.6808],\n",
            "        [-234.6867,  -12.7790]], grad_fn=<AddBackward0>)\n",
            "tensor([[ 56.,  70.],\n",
            "        [ 81., 101.],\n",
            "        [119., 133.],\n",
            "        [ 22.,  37.],\n",
            "        [103., 119.]])\n"
          ]
        }
      ]
    },
    {
      "cell_type": "code",
      "metadata": {
        "trusted": true,
        "_uuid": "5551ef933de7902c8b5a38ae3d8e4795cb244f38",
        "id": "O8Yt15YMLOwB",
        "colab": {
          "base_uri": "https://localhost:8080/"
        },
        "outputId": "a463390e-d017-4ceb-ab6d-3eb1aad39d43"
      },
      "source": [
        "# Compare with targets\n",
        "print(targets)"
      ],
      "execution_count": null,
      "outputs": [
        {
          "output_type": "stream",
          "name": "stdout",
          "text": [
            "tensor([[ 56.,  70.],\n",
            "        [ 81., 101.],\n",
            "        [119., 133.],\n",
            "        [ 22.,  37.],\n",
            "        [103., 119.]])\n"
          ]
        }
      ]
    },
    {
      "cell_type": "markdown",
      "metadata": {
        "_uuid": "2c4a9cf2b3c9152f2f832176bce9a87381e2419c",
        "id": "XPjHuToiLOwK"
      },
      "source": [
        "Because we've started with random weights and biases, the model does not a very good job of predicting the target varaibles."
      ]
    },
    {
      "cell_type": "markdown",
      "metadata": {
        "_uuid": "edaae7266f5d47c5e970e1438a812f10d8d35fb4",
        "id": "qPwGgh7YLOwL"
      },
      "source": [
        "## Loss Function\n",
        "\n",
        "We can compare the predictions with the actual targets, using the following method: \n",
        "* Calculate the difference between the two matrices (`preds` and `targets`).\n",
        "* Square all elements of the difference matrix to remove negative values.\n",
        "* Calculate the average of the elements in the resulting matrix.\n",
        "\n",
        "The result is a single number, known as the **mean squared error** (MSE).\n",
        "\n",
        "![image.png](data:image/png;base64,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)"
      ]
    },
    {
      "cell_type": "code",
      "metadata": {
        "id": "_wbukXZ7WAR5"
      },
      "source": [
        "#cross_entropy_loss = -(y * torch.log(y_hat) + (1 - y) * torch.log(1 - y_hat))\n",
        "#mean_cross_entropy_loss = torch.mean(cross_entropy_loss).detach().item()"
      ],
      "execution_count": null,
      "outputs": []
    },
    {
      "cell_type": "code",
      "metadata": {
        "trusted": true,
        "_uuid": "dbf5bca8cbf2a3831089b454c70469e3748e9682",
        "id": "cdkQfg6WLOwN"
      },
      "source": [
        "# MSE loss\n",
        "def mse(t1, t2):\n",
        "    diff = t1 - t2\n",
        "    return torch.sum(diff * diff) / diff.numel()"
      ],
      "execution_count": null,
      "outputs": []
    },
    {
      "cell_type": "code",
      "metadata": {
        "trusted": true,
        "_uuid": "90da6779aad81608c40cdca77c3c04b68a815c11",
        "id": "cxNP3aG9LOwU",
        "colab": {
          "base_uri": "https://localhost:8080/"
        },
        "outputId": "667af6fe-84be-4e17-9575-6c48f25a70b4"
      },
      "source": [
        "# Compute loss\n",
        "loss = mse(preds, targets)\n",
        "print(loss)"
      ],
      "execution_count": null,
      "outputs": [
        {
          "output_type": "stream",
          "name": "stdout",
          "text": [
            "tensor(49857.4766, grad_fn=<DivBackward0>)\n"
          ]
        }
      ]
    },
    {
      "cell_type": "markdown",
      "metadata": {
        "_uuid": "3ab3acadf389f30430b55c26c7979dcffaa974a5",
        "id": "87qyepm0LOwb"
      },
      "source": [
        "The resulting number is called the **loss**, because it indicates how bad the model is at predicting the target variables. Lower the loss, better the model. "
      ]
    },
    {
      "cell_type": "markdown",
      "metadata": {
        "_uuid": "c61acf9c3cff205d769fc52ed3b1b76f5ae66233",
        "id": "qpQTXwD-LOwc"
      },
      "source": [
        "## Compute Gradients\n",
        "\n",
        "With PyTorch, we can automatically compute the gradient or derivative of the `loss` w.r.t. to the weights and biases, because they have `requires_grad` set to `True`."
      ]
    },
    {
      "cell_type": "code",
      "metadata": {
        "trusted": true,
        "_uuid": "ef66710c6ef1944567c4dc033e1ca316f35490ab",
        "id": "wnmSZSKdLOwd"
      },
      "source": [
        "# Compute gradients\n",
        "loss.backward()"
      ],
      "execution_count": null,
      "outputs": []
    },
    {
      "cell_type": "markdown",
      "metadata": {
        "_uuid": "6504cddcfb4bfb0817bf03ef460f08f3145a9091",
        "id": "XG6v5zUlLOwm"
      },
      "source": [
        "The gradients are stored in the `.grad` property of the respective tensors."
      ]
    },
    {
      "cell_type": "code",
      "metadata": {
        "trusted": true,
        "_uuid": "5943d1cef604a178c95f5e8d255519d42d9f9982",
        "id": "4dWul6LbLOwq",
        "colab": {
          "base_uri": "https://localhost:8080/"
        },
        "outputId": "5e737000-033c-44f0-b762-b588190778a9"
      },
      "source": [
        "# Gradients for weights\n",
        "print(w)\n",
        "print(w.grad)"
      ],
      "execution_count": null,
      "outputs": [
        {
          "output_type": "stream",
          "name": "stdout",
          "text": [
            "tensor([[-0.0416, -1.5300, -1.1840],\n",
            "        [ 0.2807, -1.0770,  1.0268]], requires_grad=True)\n",
            "tensor([[-22946.6445, -26451.9121, -16018.7812],\n",
            "        [ -8601.6123, -10775.3242,  -6241.1001]])\n"
          ]
        }
      ]
    },
    {
      "cell_type": "code",
      "metadata": {
        "id": "aW9TQEydG2RK",
        "colab": {
          "base_uri": "https://localhost:8080/"
        },
        "outputId": "e8f63137-0300-49cb-f71d-6838ca3b3382"
      },
      "source": [
        "w.grad"
      ],
      "execution_count": null,
      "outputs": [
        {
          "output_type": "execute_result",
          "data": {
            "text/plain": [
              "tensor([[-22946.6445, -26451.9121, -16018.7812],\n",
              "        [ -8601.6123, -10775.3242,  -6241.1001]])"
            ]
          },
          "metadata": {},
          "execution_count": 20
        }
      ]
    },
    {
      "cell_type": "code",
      "metadata": {
        "trusted": true,
        "_uuid": "47278e318b156c6a5812e0842dbc4164c8362562",
        "id": "-yBV4mGPLOwv",
        "colab": {
          "base_uri": "https://localhost:8080/"
        },
        "outputId": "f9c5ef85-b0f8-4cfa-f530-c49e9793bef2"
      },
      "source": [
        "# Gradients for bias\n",
        "print(b)\n",
        "print(b.grad)"
      ],
      "execution_count": null,
      "outputs": [
        {
          "output_type": "stream",
          "name": "stdout",
          "text": [
            "tensor([-2.0518, -0.6338], requires_grad=True)\n",
            "tensor([-277.1433, -105.2730])\n"
          ]
        }
      ]
    },
    {
      "cell_type": "markdown",
      "metadata": {
        "_uuid": "466dc3a2cc2d4bd2c10ae4cf59cf4627b5cc9c75",
        "id": "uHDhm64LLOw6"
      },
      "source": [
        "A key insight from calculus is that the gradient indicates the rate of change of the loss, or the slope of the loss function w.r.t. the weights and biases. \n",
        "\n",
        "* If a gradient element is **postive**, \n",
        "    * **increasing** the element's value slightly will **increase** the loss.\n",
        "    * **decreasing** the element's value slightly will **decrease** the loss.\n",
        "\n",
        "<img src=\"https://i.imgur.com/2H4INoV.png\" width=\"400\" />\n",
        "\n",
        "\n",
        "\n",
        "* If a gradient element is **negative**,\n",
        "    * **increasing** the element's value slightly will **decrease** the loss.\n",
        "    * **decreasing** the element's value slightly will **increase** the loss.\n",
        "    \n",
        "<img src=\"https://i.imgur.com/h7E2uAv.png\" width=\"400\" />    \n",
        "\n",
        "The increase or decrease is proportional to the value of the gradient."
      ]
    },
    {
      "cell_type": "markdown",
      "metadata": {
        "_uuid": "35ed968bfc135bd44eeb100ae401d0628fbc5c63",
        "id": "VXUyIf6jLOw7"
      },
      "source": [
        "Finally, we'll reset the gradients to zero before moving forward, because PyTorch accumulates gradients."
      ]
    },
    {
      "cell_type": "code",
      "metadata": {
        "trusted": true,
        "_uuid": "5f02dc376c21857d4e545d98413952c5ac73039b",
        "id": "z2cgwmyALOw8",
        "colab": {
          "base_uri": "https://localhost:8080/"
        },
        "outputId": "634df77e-ec4d-44ba-bfd6-cc76c637b930"
      },
      "source": [
        "w.grad.zero_()\n",
        "b.grad.zero_()\n",
        "print(w.grad)\n",
        "print(b.grad)"
      ],
      "execution_count": null,
      "outputs": [
        {
          "output_type": "stream",
          "name": "stdout",
          "text": [
            "tensor([[0., 0., 0.],\n",
            "        [0., 0., 0.]])\n",
            "tensor([0., 0.])\n"
          ]
        }
      ]
    },
    {
      "cell_type": "markdown",
      "metadata": {
        "_uuid": "5501c66c9729c4954e9b798a0634a9d84487e639",
        "id": "8v5NfG7sLOxD"
      },
      "source": [
        "## Adjust weights and biases using gradient descent\n",
        "\n",
        "We'll reduce the loss and improve our model using the gradient descent algorithm, which has the following steps:\n",
        "\n",
        "1. Generate predictions\n",
        "2. Calculate the loss\n",
        "3. Compute gradients w.r.t the weights and biases\n",
        "4. Adjust the weights by subtracting a small quantity proportional to the gradient\n",
        "5. Reset the gradients to zero"
      ]
    },
    {
      "cell_type": "code",
      "metadata": {
        "trusted": true,
        "_uuid": "ef0d2bd2d9c5acb60992e238439ee00c2223319f",
        "id": "4AOIH8j1LOxG",
        "colab": {
          "base_uri": "https://localhost:8080/"
        },
        "outputId": "da73cd0a-592a-4710-a4b4-6caefca7a971"
      },
      "source": [
        "# Generate predictions\n",
        "preds = model(inputs)\n",
        "print(preds)"
      ],
      "execution_count": null,
      "outputs": [
        {
          "output_type": "stream",
          "name": "stdout",
          "text": [
            "tensor([[-158.5126,   -8.1468],\n",
            "        [-216.2565,   -4.1480],\n",
            "        [-279.3681,  -60.9721],\n",
            "        [-115.8926,   19.6808],\n",
            "        [-234.6867,  -12.7790]], grad_fn=<AddBackward0>)\n"
          ]
        }
      ]
    },
    {
      "cell_type": "code",
      "metadata": {
        "trusted": true,
        "_uuid": "302ee8226da4ee5d0dad137c638573a79f8abded",
        "id": "Z48QFZnZLOxQ",
        "colab": {
          "base_uri": "https://localhost:8080/"
        },
        "outputId": "1279ebf0-ce08-4ec0-a677-b9e919d843b6"
      },
      "source": [
        "# Calculate the loss\n",
        "loss = mse(preds, targets)\n",
        "print(loss)"
      ],
      "execution_count": null,
      "outputs": [
        {
          "output_type": "stream",
          "name": "stdout",
          "text": [
            "tensor(49857.4766, grad_fn=<DivBackward0>)\n"
          ]
        }
      ]
    },
    {
      "cell_type": "code",
      "metadata": {
        "trusted": true,
        "_uuid": "01c596aecf87e4670033ddd4ed36e26b97e2f9ab",
        "id": "KzLHd09hLOxe"
      },
      "source": [
        "# Compute gradients\n",
        "loss.backward()"
      ],
      "execution_count": null,
      "outputs": []
    },
    {
      "cell_type": "code",
      "metadata": {
        "id": "BDRlLTGZGsTz",
        "colab": {
          "base_uri": "https://localhost:8080/"
        },
        "outputId": "ef0cd197-e470-40a0-cb84-084240e12456"
      },
      "source": [
        "w.grad"
      ],
      "execution_count": null,
      "outputs": [
        {
          "output_type": "execute_result",
          "data": {
            "text/plain": [
              "tensor([[-22946.6445, -26451.9121, -16018.7812],\n",
              "        [ -8601.6123, -10775.3242,  -6241.1001]])"
            ]
          },
          "metadata": {},
          "execution_count": 26
        }
      ]
    },
    {
      "cell_type": "code",
      "metadata": {
        "colab": {
          "base_uri": "https://localhost:8080/"
        },
        "id": "Kk9q4Mw0PvZq",
        "outputId": "aae33a0b-1d0b-472c-d31b-18486a13ae41"
      },
      "source": [
        "print(w)\n",
        "print(b)"
      ],
      "execution_count": null,
      "outputs": [
        {
          "output_type": "stream",
          "name": "stdout",
          "text": [
            "tensor([[-0.0416, -1.5300, -1.1840],\n",
            "        [ 0.2807, -1.0770,  1.0268]], requires_grad=True)\n",
            "tensor([-2.0518, -0.6338], requires_grad=True)\n"
          ]
        }
      ]
    },
    {
      "cell_type": "code",
      "metadata": {
        "colab": {
          "base_uri": "https://localhost:8080/"
        },
        "id": "ROHiskdiPyi0",
        "outputId": "367c5da8-935c-4ce7-8f47-75385d2e0b0d"
      },
      "source": [
        "print(w.grad)\n",
        "print(b.grad)"
      ],
      "execution_count": null,
      "outputs": [
        {
          "output_type": "stream",
          "name": "stdout",
          "text": [
            "tensor([[-22946.6445, -26451.9121, -16018.7812],\n",
            "        [ -8601.6123, -10775.3242,  -6241.1001]])\n",
            "tensor([-277.1433, -105.2730])\n"
          ]
        }
      ]
    },
    {
      "cell_type": "code",
      "metadata": {
        "trusted": true,
        "_uuid": "ec1e2bdc8f91523e556fad55ee8c01eb5431ae24",
        "id": "wCDfYtGwLOxl"
      },
      "source": [
        "lr = 1e-5\n",
        "# Adjust weights & reset gradients\n",
        "with torch.no_grad():\n",
        "    w -= w.grad * lr\n",
        "    b -= b.grad * lr\n",
        "    w.grad.zero_()\n",
        "    b.grad.zero_()\n",
        "\n",
        "# w = w - (gradw*lr)\n",
        "# b = b - (gradb*lr)"
      ],
      "execution_count": null,
      "outputs": []
    },
    {
      "cell_type": "code",
      "metadata": {
        "trusted": true,
        "_uuid": "1d61b6f61f49b19099d29d1be8ec5ae4967bbd51",
        "id": "kqPFgIDNLOxq",
        "colab": {
          "base_uri": "https://localhost:8080/"
        },
        "outputId": "a5efcf4d-6c2e-4ab6-e0f7-2c407e50dc49"
      },
      "source": [
        "print(w)\n",
        "print(b)"
      ],
      "execution_count": null,
      "outputs": [
        {
          "output_type": "stream",
          "name": "stdout",
          "text": [
            "tensor([[ 0.1879, -1.2655, -1.0239],\n",
            "        [ 0.3667, -0.9692,  1.0892]], requires_grad=True)\n",
            "tensor([-2.0490, -0.6327], requires_grad=True)\n"
          ]
        }
      ]
    },
    {
      "cell_type": "markdown",
      "metadata": {
        "_uuid": "6af10c29db7cb0d6e869b2c30966a34a48a011e2",
        "id": "kKaeYzxlLOxu"
      },
      "source": [
        "With the new weights and biases, the model should have a lower loss."
      ]
    },
    {
      "cell_type": "code",
      "metadata": {
        "trusted": true,
        "_uuid": "c542b5fe75d82454f34cac13cdcff8b48dd1945c",
        "id": "O2FJQsGALOxw",
        "colab": {
          "base_uri": "https://localhost:8080/"
        },
        "outputId": "7504d020-1270-4c32-c1f9-4ba13ba9d9c9"
      },
      "source": [
        "# Calculate loss\n",
        "preds = model(inputs)\n",
        "loss = mse(preds, targets)\n",
        "print(loss)"
      ],
      "execution_count": null,
      "outputs": [
        {
          "output_type": "stream",
          "name": "stdout",
          "text": [
            "tensor(34268.3555, grad_fn=<DivBackward0>)\n"
          ]
        }
      ]
    },
    {
      "cell_type": "markdown",
      "metadata": {
        "_uuid": "5201901695f3ea13d7fdd5d985da7e0761c541d0",
        "id": "r9-XzVJBLOx2"
      },
      "source": [
        "## Train for multiple epochs\n",
        "\n",
        "To reduce the loss further, we repeat the process of adjusting the weights and biases using the gradients multiple times. Each iteration is called an epoch."
      ]
    },
    {
      "cell_type": "code",
      "metadata": {
        "id": "DS28pCN0JSgI",
        "colab": {
          "base_uri": "https://localhost:8080/"
        },
        "outputId": "450d90e3-26d2-400e-d180-b3c2083f54e6"
      },
      "source": [
        "w = torch.randn(2, 3, requires_grad=True)\n",
        "b = torch.randn(2, requires_grad=True)\n",
        "print(w)\n",
        "print(b)"
      ],
      "execution_count": null,
      "outputs": [
        {
          "output_type": "stream",
          "name": "stdout",
          "text": [
            "tensor([[ 1.0219,  2.8447, -0.2356],\n",
            "        [-1.9920, -0.9275,  0.9010]], requires_grad=True)\n",
            "tensor([ 0.4591, -1.1585], requires_grad=True)\n"
          ]
        }
      ]
    },
    {
      "cell_type": "code",
      "metadata": {
        "id": "fiBenqrqQ1bG"
      },
      "source": [
        "import matplotlib.pyplot as plt"
      ],
      "execution_count": null,
      "outputs": []
    },
    {
      "cell_type": "code",
      "metadata": {
        "id": "j9mS1iznHxI5"
      },
      "source": [
        "lr = 0.0001"
      ],
      "execution_count": null,
      "outputs": []
    },
    {
      "cell_type": "code",
      "metadata": {
        "trusted": true,
        "_uuid": "9f5f0ffeee666b30c5828636359f0be6addbef7c",
        "id": "M5Gp4gOvLOx5",
        "colab": {
          "base_uri": "https://localhost:8080/",
          "height": 1000
        },
        "outputId": "57a7f4fa-19b5-46a3-8976-f91781a55987"
      },
      "source": [
        "%%time\n",
        "# Train for 200 epochs\n",
        "lossvalues=[]\n",
        "for i in range(500):\n",
        "    preds = model(inputs)\n",
        "    loss = mse(preds, targets)\n",
        "    print('Epoch: ',i, 'Loss: ',loss)\n",
        "    lossvalues.append(loss.detach().numpy())\n",
        "    loss.backward()\n",
        "    with torch.no_grad():\n",
        "        w -= w.grad * lr\n",
        "        b -= b.grad * lr\n",
        "        w.grad.zero_()\n",
        "        b.grad.zero_()\n",
        "plt.plot(lossvalues)"
      ],
      "execution_count": null,
      "outputs": [
        {
          "output_type": "stream",
          "name": "stdout",
          "text": [
            "Epoch:  0 Loss:  tensor(0.5057, grad_fn=<DivBackward0>)\n",
            "Epoch:  1 Loss:  tensor(0.5057, grad_fn=<DivBackward0>)\n",
            "Epoch:  2 Loss:  tensor(0.5057, grad_fn=<DivBackward0>)\n",
            "Epoch:  3 Loss:  tensor(0.5057, grad_fn=<DivBackward0>)\n",
            "Epoch:  4 Loss:  tensor(0.5057, grad_fn=<DivBackward0>)\n",
            "Epoch:  5 Loss:  tensor(0.5057, grad_fn=<DivBackward0>)\n",
            "Epoch:  6 Loss:  tensor(0.5057, grad_fn=<DivBackward0>)\n",
            "Epoch:  7 Loss:  tensor(0.5057, grad_fn=<DivBackward0>)\n",
            "Epoch:  8 Loss:  tensor(0.5057, grad_fn=<DivBackward0>)\n",
            "Epoch:  9 Loss:  tensor(0.5057, grad_fn=<DivBackward0>)\n",
            "Epoch:  10 Loss:  tensor(0.5057, grad_fn=<DivBackward0>)\n",
            "Epoch:  11 Loss:  tensor(0.5057, grad_fn=<DivBackward0>)\n",
            "Epoch:  12 Loss:  tensor(0.5057, grad_fn=<DivBackward0>)\n",
            "Epoch:  13 Loss:  tensor(0.5057, grad_fn=<DivBackward0>)\n",
            "Epoch:  14 Loss:  tensor(0.5057, grad_fn=<DivBackward0>)\n",
            "Epoch:  15 Loss:  tensor(0.5057, grad_fn=<DivBackward0>)\n",
            "Epoch:  16 Loss:  tensor(0.5057, grad_fn=<DivBackward0>)\n",
            "Epoch:  17 Loss:  tensor(0.5057, grad_fn=<DivBackward0>)\n",
            "Epoch:  18 Loss:  tensor(0.5057, grad_fn=<DivBackward0>)\n",
            "Epoch:  19 Loss:  tensor(0.5057, grad_fn=<DivBackward0>)\n",
            "Epoch:  20 Loss:  tensor(0.5057, grad_fn=<DivBackward0>)\n",
            "Epoch:  21 Loss:  tensor(0.5057, grad_fn=<DivBackward0>)\n",
            "Epoch:  22 Loss:  tensor(0.5057, grad_fn=<DivBackward0>)\n",
            "Epoch:  23 Loss:  tensor(0.5057, grad_fn=<DivBackward0>)\n",
            "Epoch:  24 Loss:  tensor(0.5057, grad_fn=<DivBackward0>)\n",
            "Epoch:  25 Loss:  tensor(0.5057, grad_fn=<DivBackward0>)\n",
            "Epoch:  26 Loss:  tensor(0.5057, grad_fn=<DivBackward0>)\n",
            "Epoch:  27 Loss:  tensor(0.5057, grad_fn=<DivBackward0>)\n",
            "Epoch:  28 Loss:  tensor(0.5057, grad_fn=<DivBackward0>)\n",
            "Epoch:  29 Loss:  tensor(0.5057, grad_fn=<DivBackward0>)\n",
            "Epoch:  30 Loss:  tensor(0.5057, grad_fn=<DivBackward0>)\n",
            "Epoch:  31 Loss:  tensor(0.5057, grad_fn=<DivBackward0>)\n",
            "Epoch:  32 Loss:  tensor(0.5057, grad_fn=<DivBackward0>)\n",
            "Epoch:  33 Loss:  tensor(0.5057, grad_fn=<DivBackward0>)\n",
            "Epoch:  34 Loss:  tensor(0.5057, grad_fn=<DivBackward0>)\n",
            "Epoch:  35 Loss:  tensor(0.5057, grad_fn=<DivBackward0>)\n",
            "Epoch:  36 Loss:  tensor(0.5057, grad_fn=<DivBackward0>)\n",
            "Epoch:  37 Loss:  tensor(0.5057, grad_fn=<DivBackward0>)\n",
            "Epoch:  38 Loss:  tensor(0.5057, grad_fn=<DivBackward0>)\n",
            "Epoch:  39 Loss:  tensor(0.5057, grad_fn=<DivBackward0>)\n",
            "Epoch:  40 Loss:  tensor(0.5057, grad_fn=<DivBackward0>)\n",
            "Epoch:  41 Loss:  tensor(0.5057, grad_fn=<DivBackward0>)\n",
            "Epoch:  42 Loss:  tensor(0.5057, grad_fn=<DivBackward0>)\n",
            "Epoch:  43 Loss:  tensor(0.5057, grad_fn=<DivBackward0>)\n",
            "Epoch:  44 Loss:  tensor(0.5057, grad_fn=<DivBackward0>)\n",
            "Epoch:  45 Loss:  tensor(0.5057, grad_fn=<DivBackward0>)\n",
            "Epoch:  46 Loss:  tensor(0.5057, grad_fn=<DivBackward0>)\n",
            "Epoch:  47 Loss:  tensor(0.5057, grad_fn=<DivBackward0>)\n",
            "Epoch:  48 Loss:  tensor(0.5057, grad_fn=<DivBackward0>)\n",
            "Epoch:  49 Loss:  tensor(0.5057, grad_fn=<DivBackward0>)\n",
            "Epoch:  50 Loss:  tensor(0.5057, grad_fn=<DivBackward0>)\n",
            "Epoch:  51 Loss:  tensor(0.5057, grad_fn=<DivBackward0>)\n",
            "Epoch:  52 Loss:  tensor(0.5057, grad_fn=<DivBackward0>)\n",
            "Epoch:  53 Loss:  tensor(0.5057, grad_fn=<DivBackward0>)\n",
            "Epoch:  54 Loss:  tensor(0.5057, grad_fn=<DivBackward0>)\n",
            "Epoch:  55 Loss:  tensor(0.5057, grad_fn=<DivBackward0>)\n",
            "Epoch:  56 Loss:  tensor(0.5057, grad_fn=<DivBackward0>)\n",
            "Epoch:  57 Loss:  tensor(0.5057, grad_fn=<DivBackward0>)\n",
            "Epoch:  58 Loss:  tensor(0.5057, grad_fn=<DivBackward0>)\n",
            "Epoch:  59 Loss:  tensor(0.5057, grad_fn=<DivBackward0>)\n",
            "Epoch:  60 Loss:  tensor(0.5057, grad_fn=<DivBackward0>)\n",
            "Epoch:  61 Loss:  tensor(0.5057, grad_fn=<DivBackward0>)\n",
            "Epoch:  62 Loss:  tensor(0.5057, grad_fn=<DivBackward0>)\n",
            "Epoch:  63 Loss:  tensor(0.5057, grad_fn=<DivBackward0>)\n",
            "Epoch:  64 Loss:  tensor(0.5057, grad_fn=<DivBackward0>)\n",
            "Epoch:  65 Loss:  tensor(0.5057, grad_fn=<DivBackward0>)\n",
            "Epoch:  66 Loss:  tensor(0.5057, grad_fn=<DivBackward0>)\n",
            "Epoch:  67 Loss:  tensor(0.5057, grad_fn=<DivBackward0>)\n",
            "Epoch:  68 Loss:  tensor(0.5057, grad_fn=<DivBackward0>)\n",
            "Epoch:  69 Loss:  tensor(0.5057, grad_fn=<DivBackward0>)\n",
            "Epoch:  70 Loss:  tensor(0.5057, grad_fn=<DivBackward0>)\n",
            "Epoch:  71 Loss:  tensor(0.5057, grad_fn=<DivBackward0>)\n",
            "Epoch:  72 Loss:  tensor(0.5057, grad_fn=<DivBackward0>)\n",
            "Epoch:  73 Loss:  tensor(0.5057, grad_fn=<DivBackward0>)\n",
            "Epoch:  74 Loss:  tensor(0.5057, grad_fn=<DivBackward0>)\n",
            "Epoch:  75 Loss:  tensor(0.5057, grad_fn=<DivBackward0>)\n",
            "Epoch:  76 Loss:  tensor(0.5057, grad_fn=<DivBackward0>)\n",
            "Epoch:  77 Loss:  tensor(0.5057, grad_fn=<DivBackward0>)\n",
            "Epoch:  78 Loss:  tensor(0.5057, grad_fn=<DivBackward0>)\n",
            "Epoch:  79 Loss:  tensor(0.5057, grad_fn=<DivBackward0>)\n",
            "Epoch:  80 Loss:  tensor(0.5057, grad_fn=<DivBackward0>)\n",
            "Epoch:  81 Loss:  tensor(0.5057, grad_fn=<DivBackward0>)\n",
            "Epoch:  82 Loss:  tensor(0.5057, grad_fn=<DivBackward0>)\n",
            "Epoch:  83 Loss:  tensor(0.5057, grad_fn=<DivBackward0>)\n",
            "Epoch:  84 Loss:  tensor(0.5057, grad_fn=<DivBackward0>)\n",
            "Epoch:  85 Loss:  tensor(0.5057, grad_fn=<DivBackward0>)\n",
            "Epoch:  86 Loss:  tensor(0.5057, grad_fn=<DivBackward0>)\n",
            "Epoch:  87 Loss:  tensor(0.5057, grad_fn=<DivBackward0>)\n",
            "Epoch:  88 Loss:  tensor(0.5057, grad_fn=<DivBackward0>)\n",
            "Epoch:  89 Loss:  tensor(0.5057, grad_fn=<DivBackward0>)\n",
            "Epoch:  90 Loss:  tensor(0.5057, grad_fn=<DivBackward0>)\n",
            "Epoch:  91 Loss:  tensor(0.5057, grad_fn=<DivBackward0>)\n",
            "Epoch:  92 Loss:  tensor(0.5057, grad_fn=<DivBackward0>)\n",
            "Epoch:  93 Loss:  tensor(0.5057, grad_fn=<DivBackward0>)\n",
            "Epoch:  94 Loss:  tensor(0.5057, grad_fn=<DivBackward0>)\n",
            "Epoch:  95 Loss:  tensor(0.5057, grad_fn=<DivBackward0>)\n",
            "Epoch:  96 Loss:  tensor(0.5057, grad_fn=<DivBackward0>)\n",
            "Epoch:  97 Loss:  tensor(0.5057, grad_fn=<DivBackward0>)\n",
            "Epoch:  98 Loss:  tensor(0.5057, grad_fn=<DivBackward0>)\n",
            "Epoch:  99 Loss:  tensor(0.5057, grad_fn=<DivBackward0>)\n",
            "Epoch:  100 Loss:  tensor(0.5057, grad_fn=<DivBackward0>)\n",
            "Epoch:  101 Loss:  tensor(0.5057, grad_fn=<DivBackward0>)\n",
            "Epoch:  102 Loss:  tensor(0.5057, grad_fn=<DivBackward0>)\n",
            "Epoch:  103 Loss:  tensor(0.5057, grad_fn=<DivBackward0>)\n",
            "Epoch:  104 Loss:  tensor(0.5057, grad_fn=<DivBackward0>)\n",
            "Epoch:  105 Loss:  tensor(0.5057, grad_fn=<DivBackward0>)\n",
            "Epoch:  106 Loss:  tensor(0.5057, grad_fn=<DivBackward0>)\n",
            "Epoch:  107 Loss:  tensor(0.5057, grad_fn=<DivBackward0>)\n",
            "Epoch:  108 Loss:  tensor(0.5057, grad_fn=<DivBackward0>)\n",
            "Epoch:  109 Loss:  tensor(0.5057, grad_fn=<DivBackward0>)\n",
            "Epoch:  110 Loss:  tensor(0.5057, grad_fn=<DivBackward0>)\n",
            "Epoch:  111 Loss:  tensor(0.5057, grad_fn=<DivBackward0>)\n",
            "Epoch:  112 Loss:  tensor(0.5057, grad_fn=<DivBackward0>)\n",
            "Epoch:  113 Loss:  tensor(0.5057, grad_fn=<DivBackward0>)\n",
            "Epoch:  114 Loss:  tensor(0.5057, grad_fn=<DivBackward0>)\n",
            "Epoch:  115 Loss:  tensor(0.5057, grad_fn=<DivBackward0>)\n",
            "Epoch:  116 Loss:  tensor(0.5057, grad_fn=<DivBackward0>)\n",
            "Epoch:  117 Loss:  tensor(0.5057, grad_fn=<DivBackward0>)\n",
            "Epoch:  118 Loss:  tensor(0.5057, grad_fn=<DivBackward0>)\n",
            "Epoch:  119 Loss:  tensor(0.5057, grad_fn=<DivBackward0>)\n",
            "Epoch:  120 Loss:  tensor(0.5057, grad_fn=<DivBackward0>)\n",
            "Epoch:  121 Loss:  tensor(0.5057, grad_fn=<DivBackward0>)\n",
            "Epoch:  122 Loss:  tensor(0.5057, grad_fn=<DivBackward0>)\n",
            "Epoch:  123 Loss:  tensor(0.5057, grad_fn=<DivBackward0>)\n",
            "Epoch:  124 Loss:  tensor(0.5057, grad_fn=<DivBackward0>)\n",
            "Epoch:  125 Loss:  tensor(0.5057, grad_fn=<DivBackward0>)\n",
            "Epoch:  126 Loss:  tensor(0.5057, grad_fn=<DivBackward0>)\n",
            "Epoch:  127 Loss:  tensor(0.5057, grad_fn=<DivBackward0>)\n",
            "Epoch:  128 Loss:  tensor(0.5057, grad_fn=<DivBackward0>)\n",
            "Epoch:  129 Loss:  tensor(0.5057, grad_fn=<DivBackward0>)\n",
            "Epoch:  130 Loss:  tensor(0.5057, grad_fn=<DivBackward0>)\n",
            "Epoch:  131 Loss:  tensor(0.5057, grad_fn=<DivBackward0>)\n",
            "Epoch:  132 Loss:  tensor(0.5057, grad_fn=<DivBackward0>)\n",
            "Epoch:  133 Loss:  tensor(0.5057, grad_fn=<DivBackward0>)\n",
            "Epoch:  134 Loss:  tensor(0.5057, grad_fn=<DivBackward0>)\n",
            "Epoch:  135 Loss:  tensor(0.5057, grad_fn=<DivBackward0>)\n",
            "Epoch:  136 Loss:  tensor(0.5057, grad_fn=<DivBackward0>)\n",
            "Epoch:  137 Loss:  tensor(0.5057, grad_fn=<DivBackward0>)\n",
            "Epoch:  138 Loss:  tensor(0.5057, grad_fn=<DivBackward0>)\n",
            "Epoch:  139 Loss:  tensor(0.5057, grad_fn=<DivBackward0>)\n",
            "Epoch:  140 Loss:  tensor(0.5057, grad_fn=<DivBackward0>)\n",
            "Epoch:  141 Loss:  tensor(0.5057, grad_fn=<DivBackward0>)\n",
            "Epoch:  142 Loss:  tensor(0.5057, grad_fn=<DivBackward0>)\n",
            "Epoch:  143 Loss:  tensor(0.5057, grad_fn=<DivBackward0>)\n",
            "Epoch:  144 Loss:  tensor(0.5057, grad_fn=<DivBackward0>)\n",
            "Epoch:  145 Loss:  tensor(0.5057, grad_fn=<DivBackward0>)\n",
            "Epoch:  146 Loss:  tensor(0.5057, grad_fn=<DivBackward0>)\n",
            "Epoch:  147 Loss:  tensor(0.5057, grad_fn=<DivBackward0>)\n",
            "Epoch:  148 Loss:  tensor(0.5057, grad_fn=<DivBackward0>)\n",
            "Epoch:  149 Loss:  tensor(0.5057, grad_fn=<DivBackward0>)\n",
            "Epoch:  150 Loss:  tensor(0.5057, grad_fn=<DivBackward0>)\n",
            "Epoch:  151 Loss:  tensor(0.5057, grad_fn=<DivBackward0>)\n",
            "Epoch:  152 Loss:  tensor(0.5057, grad_fn=<DivBackward0>)\n",
            "Epoch:  153 Loss:  tensor(0.5057, grad_fn=<DivBackward0>)\n",
            "Epoch:  154 Loss:  tensor(0.5057, grad_fn=<DivBackward0>)\n",
            "Epoch:  155 Loss:  tensor(0.5057, grad_fn=<DivBackward0>)\n",
            "Epoch:  156 Loss:  tensor(0.5057, grad_fn=<DivBackward0>)\n",
            "Epoch:  157 Loss:  tensor(0.5057, grad_fn=<DivBackward0>)\n",
            "Epoch:  158 Loss:  tensor(0.5057, grad_fn=<DivBackward0>)\n",
            "Epoch:  159 Loss:  tensor(0.5057, grad_fn=<DivBackward0>)\n",
            "Epoch:  160 Loss:  tensor(0.5057, grad_fn=<DivBackward0>)\n",
            "Epoch:  161 Loss:  tensor(0.5057, grad_fn=<DivBackward0>)\n",
            "Epoch:  162 Loss:  tensor(0.5057, grad_fn=<DivBackward0>)\n",
            "Epoch:  163 Loss:  tensor(0.5057, grad_fn=<DivBackward0>)\n",
            "Epoch:  164 Loss:  tensor(0.5057, grad_fn=<DivBackward0>)\n",
            "Epoch:  165 Loss:  tensor(0.5057, grad_fn=<DivBackward0>)\n",
            "Epoch:  166 Loss:  tensor(0.5057, grad_fn=<DivBackward0>)\n",
            "Epoch:  167 Loss:  tensor(0.5057, grad_fn=<DivBackward0>)\n",
            "Epoch:  168 Loss:  tensor(0.5057, grad_fn=<DivBackward0>)\n",
            "Epoch:  169 Loss:  tensor(0.5057, grad_fn=<DivBackward0>)\n",
            "Epoch:  170 Loss:  tensor(0.5057, grad_fn=<DivBackward0>)\n",
            "Epoch:  171 Loss:  tensor(0.5057, grad_fn=<DivBackward0>)\n",
            "Epoch:  172 Loss:  tensor(0.5057, grad_fn=<DivBackward0>)\n",
            "Epoch:  173 Loss:  tensor(0.5057, grad_fn=<DivBackward0>)\n",
            "Epoch:  174 Loss:  tensor(0.5057, grad_fn=<DivBackward0>)\n",
            "Epoch:  175 Loss:  tensor(0.5057, grad_fn=<DivBackward0>)\n",
            "Epoch:  176 Loss:  tensor(0.5057, grad_fn=<DivBackward0>)\n",
            "Epoch:  177 Loss:  tensor(0.5057, grad_fn=<DivBackward0>)\n",
            "Epoch:  178 Loss:  tensor(0.5057, grad_fn=<DivBackward0>)\n",
            "Epoch:  179 Loss:  tensor(0.5057, grad_fn=<DivBackward0>)\n",
            "Epoch:  180 Loss:  tensor(0.5057, grad_fn=<DivBackward0>)\n",
            "Epoch:  181 Loss:  tensor(0.5057, grad_fn=<DivBackward0>)\n",
            "Epoch:  182 Loss:  tensor(0.5057, grad_fn=<DivBackward0>)\n",
            "Epoch:  183 Loss:  tensor(0.5057, grad_fn=<DivBackward0>)\n",
            "Epoch:  184 Loss:  tensor(0.5057, grad_fn=<DivBackward0>)\n",
            "Epoch:  185 Loss:  tensor(0.5057, grad_fn=<DivBackward0>)\n",
            "Epoch:  186 Loss:  tensor(0.5057, grad_fn=<DivBackward0>)\n",
            "Epoch:  187 Loss:  tensor(0.5057, grad_fn=<DivBackward0>)\n",
            "Epoch:  188 Loss:  tensor(0.5057, grad_fn=<DivBackward0>)\n",
            "Epoch:  189 Loss:  tensor(0.5057, grad_fn=<DivBackward0>)\n",
            "Epoch:  190 Loss:  tensor(0.5057, grad_fn=<DivBackward0>)\n",
            "Epoch:  191 Loss:  tensor(0.5057, grad_fn=<DivBackward0>)\n",
            "Epoch:  192 Loss:  tensor(0.5057, grad_fn=<DivBackward0>)\n",
            "Epoch:  193 Loss:  tensor(0.5057, grad_fn=<DivBackward0>)\n",
            "Epoch:  194 Loss:  tensor(0.5057, grad_fn=<DivBackward0>)\n",
            "Epoch:  195 Loss:  tensor(0.5057, grad_fn=<DivBackward0>)\n",
            "Epoch:  196 Loss:  tensor(0.5057, grad_fn=<DivBackward0>)\n",
            "Epoch:  197 Loss:  tensor(0.5057, grad_fn=<DivBackward0>)\n",
            "Epoch:  198 Loss:  tensor(0.5057, grad_fn=<DivBackward0>)\n",
            "Epoch:  199 Loss:  tensor(0.5057, grad_fn=<DivBackward0>)\n",
            "Epoch:  200 Loss:  tensor(0.5057, grad_fn=<DivBackward0>)\n",
            "Epoch:  201 Loss:  tensor(0.5057, grad_fn=<DivBackward0>)\n",
            "Epoch:  202 Loss:  tensor(0.5057, grad_fn=<DivBackward0>)\n",
            "Epoch:  203 Loss:  tensor(0.5057, grad_fn=<DivBackward0>)\n",
            "Epoch:  204 Loss:  tensor(0.5057, grad_fn=<DivBackward0>)\n",
            "Epoch:  205 Loss:  tensor(0.5057, grad_fn=<DivBackward0>)\n",
            "Epoch:  206 Loss:  tensor(0.5057, grad_fn=<DivBackward0>)\n",
            "Epoch:  207 Loss:  tensor(0.5057, grad_fn=<DivBackward0>)\n",
            "Epoch:  208 Loss:  tensor(0.5057, grad_fn=<DivBackward0>)\n",
            "Epoch:  209 Loss:  tensor(0.5057, grad_fn=<DivBackward0>)\n",
            "Epoch:  210 Loss:  tensor(0.5057, grad_fn=<DivBackward0>)\n",
            "Epoch:  211 Loss:  tensor(0.5057, grad_fn=<DivBackward0>)\n",
            "Epoch:  212 Loss:  tensor(0.5057, grad_fn=<DivBackward0>)\n",
            "Epoch:  213 Loss:  tensor(0.5057, grad_fn=<DivBackward0>)\n",
            "Epoch:  214 Loss:  tensor(0.5057, grad_fn=<DivBackward0>)\n",
            "Epoch:  215 Loss:  tensor(0.5057, grad_fn=<DivBackward0>)\n",
            "Epoch:  216 Loss:  tensor(0.5057, grad_fn=<DivBackward0>)\n",
            "Epoch:  217 Loss:  tensor(0.5057, grad_fn=<DivBackward0>)\n",
            "Epoch:  218 Loss:  tensor(0.5057, grad_fn=<DivBackward0>)\n",
            "Epoch:  219 Loss:  tensor(0.5057, grad_fn=<DivBackward0>)\n",
            "Epoch:  220 Loss:  tensor(0.5057, grad_fn=<DivBackward0>)\n",
            "Epoch:  221 Loss:  tensor(0.5057, grad_fn=<DivBackward0>)\n",
            "Epoch:  222 Loss:  tensor(0.5057, grad_fn=<DivBackward0>)\n",
            "Epoch:  223 Loss:  tensor(0.5057, grad_fn=<DivBackward0>)\n",
            "Epoch:  224 Loss:  tensor(0.5057, grad_fn=<DivBackward0>)\n",
            "Epoch:  225 Loss:  tensor(0.5057, grad_fn=<DivBackward0>)\n",
            "Epoch:  226 Loss:  tensor(0.5057, grad_fn=<DivBackward0>)\n",
            "Epoch:  227 Loss:  tensor(0.5057, grad_fn=<DivBackward0>)\n",
            "Epoch:  228 Loss:  tensor(0.5057, grad_fn=<DivBackward0>)\n",
            "Epoch:  229 Loss:  tensor(0.5057, grad_fn=<DivBackward0>)\n",
            "Epoch:  230 Loss:  tensor(0.5057, grad_fn=<DivBackward0>)\n",
            "Epoch:  231 Loss:  tensor(0.5057, grad_fn=<DivBackward0>)\n",
            "Epoch:  232 Loss:  tensor(0.5057, grad_fn=<DivBackward0>)\n",
            "Epoch:  233 Loss:  tensor(0.5057, grad_fn=<DivBackward0>)\n",
            "Epoch:  234 Loss:  tensor(0.5057, grad_fn=<DivBackward0>)\n",
            "Epoch:  235 Loss:  tensor(0.5057, grad_fn=<DivBackward0>)\n",
            "Epoch:  236 Loss:  tensor(0.5057, grad_fn=<DivBackward0>)\n",
            "Epoch:  237 Loss:  tensor(0.5057, grad_fn=<DivBackward0>)\n",
            "Epoch:  238 Loss:  tensor(0.5057, grad_fn=<DivBackward0>)\n",
            "Epoch:  239 Loss:  tensor(0.5057, grad_fn=<DivBackward0>)\n",
            "Epoch:  240 Loss:  tensor(0.5057, grad_fn=<DivBackward0>)\n",
            "Epoch:  241 Loss:  tensor(0.5057, grad_fn=<DivBackward0>)\n",
            "Epoch:  242 Loss:  tensor(0.5057, grad_fn=<DivBackward0>)\n",
            "Epoch:  243 Loss:  tensor(0.5057, grad_fn=<DivBackward0>)\n",
            "Epoch:  244 Loss:  tensor(0.5057, grad_fn=<DivBackward0>)\n",
            "Epoch:  245 Loss:  tensor(0.5057, grad_fn=<DivBackward0>)\n",
            "Epoch:  246 Loss:  tensor(0.5057, grad_fn=<DivBackward0>)\n",
            "Epoch:  247 Loss:  tensor(0.5057, grad_fn=<DivBackward0>)\n",
            "Epoch:  248 Loss:  tensor(0.5057, grad_fn=<DivBackward0>)\n",
            "Epoch:  249 Loss:  tensor(0.5057, grad_fn=<DivBackward0>)\n",
            "Epoch:  250 Loss:  tensor(0.5057, grad_fn=<DivBackward0>)\n",
            "Epoch:  251 Loss:  tensor(0.5057, grad_fn=<DivBackward0>)\n",
            "Epoch:  252 Loss:  tensor(0.5057, grad_fn=<DivBackward0>)\n",
            "Epoch:  253 Loss:  tensor(0.5057, grad_fn=<DivBackward0>)\n",
            "Epoch:  254 Loss:  tensor(0.5057, grad_fn=<DivBackward0>)\n",
            "Epoch:  255 Loss:  tensor(0.5057, grad_fn=<DivBackward0>)\n",
            "Epoch:  256 Loss:  tensor(0.5057, grad_fn=<DivBackward0>)\n",
            "Epoch:  257 Loss:  tensor(0.5057, grad_fn=<DivBackward0>)\n",
            "Epoch:  258 Loss:  tensor(0.5057, grad_fn=<DivBackward0>)\n",
            "Epoch:  259 Loss:  tensor(0.5057, grad_fn=<DivBackward0>)\n",
            "Epoch:  260 Loss:  tensor(0.5057, grad_fn=<DivBackward0>)\n",
            "Epoch:  261 Loss:  tensor(0.5057, grad_fn=<DivBackward0>)\n",
            "Epoch:  262 Loss:  tensor(0.5057, grad_fn=<DivBackward0>)\n",
            "Epoch:  263 Loss:  tensor(0.5057, grad_fn=<DivBackward0>)\n",
            "Epoch:  264 Loss:  tensor(0.5057, grad_fn=<DivBackward0>)\n",
            "Epoch:  265 Loss:  tensor(0.5057, grad_fn=<DivBackward0>)\n",
            "Epoch:  266 Loss:  tensor(0.5057, grad_fn=<DivBackward0>)\n",
            "Epoch:  267 Loss:  tensor(0.5057, grad_fn=<DivBackward0>)\n",
            "Epoch:  268 Loss:  tensor(0.5057, grad_fn=<DivBackward0>)\n",
            "Epoch:  269 Loss:  tensor(0.5057, grad_fn=<DivBackward0>)\n",
            "Epoch:  270 Loss:  tensor(0.5057, grad_fn=<DivBackward0>)\n",
            "Epoch:  271 Loss:  tensor(0.5057, grad_fn=<DivBackward0>)\n",
            "Epoch:  272 Loss:  tensor(0.5057, grad_fn=<DivBackward0>)\n",
            "Epoch:  273 Loss:  tensor(0.5057, grad_fn=<DivBackward0>)\n",
            "Epoch:  274 Loss:  tensor(0.5057, grad_fn=<DivBackward0>)\n",
            "Epoch:  275 Loss:  tensor(0.5057, grad_fn=<DivBackward0>)\n",
            "Epoch:  276 Loss:  tensor(0.5057, grad_fn=<DivBackward0>)\n",
            "Epoch:  277 Loss:  tensor(0.5057, grad_fn=<DivBackward0>)\n",
            "Epoch:  278 Loss:  tensor(0.5057, grad_fn=<DivBackward0>)\n",
            "Epoch:  279 Loss:  tensor(0.5057, grad_fn=<DivBackward0>)\n",
            "Epoch:  280 Loss:  tensor(0.5057, grad_fn=<DivBackward0>)\n",
            "Epoch:  281 Loss:  tensor(0.5057, grad_fn=<DivBackward0>)\n",
            "Epoch:  282 Loss:  tensor(0.5057, grad_fn=<DivBackward0>)\n",
            "Epoch:  283 Loss:  tensor(0.5057, grad_fn=<DivBackward0>)\n",
            "Epoch:  284 Loss:  tensor(0.5057, grad_fn=<DivBackward0>)\n",
            "Epoch:  285 Loss:  tensor(0.5057, grad_fn=<DivBackward0>)\n",
            "Epoch:  286 Loss:  tensor(0.5057, grad_fn=<DivBackward0>)\n",
            "Epoch:  287 Loss:  tensor(0.5057, grad_fn=<DivBackward0>)\n",
            "Epoch:  288 Loss:  tensor(0.5057, grad_fn=<DivBackward0>)\n",
            "Epoch:  289 Loss:  tensor(0.5057, grad_fn=<DivBackward0>)\n",
            "Epoch:  290 Loss:  tensor(0.5057, grad_fn=<DivBackward0>)\n",
            "Epoch:  291 Loss:  tensor(0.5057, grad_fn=<DivBackward0>)\n",
            "Epoch:  292 Loss:  tensor(0.5057, grad_fn=<DivBackward0>)\n",
            "Epoch:  293 Loss:  tensor(0.5057, grad_fn=<DivBackward0>)\n",
            "Epoch:  294 Loss:  tensor(0.5057, grad_fn=<DivBackward0>)\n",
            "Epoch:  295 Loss:  tensor(0.5057, grad_fn=<DivBackward0>)\n",
            "Epoch:  296 Loss:  tensor(0.5057, grad_fn=<DivBackward0>)\n",
            "Epoch:  297 Loss:  tensor(0.5057, grad_fn=<DivBackward0>)\n",
            "Epoch:  298 Loss:  tensor(0.5057, grad_fn=<DivBackward0>)\n",
            "Epoch:  299 Loss:  tensor(0.5057, grad_fn=<DivBackward0>)\n",
            "Epoch:  300 Loss:  tensor(0.5057, grad_fn=<DivBackward0>)\n",
            "Epoch:  301 Loss:  tensor(0.5057, grad_fn=<DivBackward0>)\n",
            "Epoch:  302 Loss:  tensor(0.5057, grad_fn=<DivBackward0>)\n",
            "Epoch:  303 Loss:  tensor(0.5057, grad_fn=<DivBackward0>)\n",
            "Epoch:  304 Loss:  tensor(0.5057, grad_fn=<DivBackward0>)\n",
            "Epoch:  305 Loss:  tensor(0.5057, grad_fn=<DivBackward0>)\n",
            "Epoch:  306 Loss:  tensor(0.5057, grad_fn=<DivBackward0>)\n",
            "Epoch:  307 Loss:  tensor(0.5057, grad_fn=<DivBackward0>)\n",
            "Epoch:  308 Loss:  tensor(0.5057, grad_fn=<DivBackward0>)\n",
            "Epoch:  309 Loss:  tensor(0.5057, grad_fn=<DivBackward0>)\n",
            "Epoch:  310 Loss:  tensor(0.5057, grad_fn=<DivBackward0>)\n",
            "Epoch:  311 Loss:  tensor(0.5057, grad_fn=<DivBackward0>)\n",
            "Epoch:  312 Loss:  tensor(0.5057, grad_fn=<DivBackward0>)\n",
            "Epoch:  313 Loss:  tensor(0.5057, grad_fn=<DivBackward0>)\n",
            "Epoch:  314 Loss:  tensor(0.5057, grad_fn=<DivBackward0>)\n",
            "Epoch:  315 Loss:  tensor(0.5057, grad_fn=<DivBackward0>)\n",
            "Epoch:  316 Loss:  tensor(0.5057, grad_fn=<DivBackward0>)\n",
            "Epoch:  317 Loss:  tensor(0.5057, grad_fn=<DivBackward0>)\n",
            "Epoch:  318 Loss:  tensor(0.5057, grad_fn=<DivBackward0>)\n",
            "Epoch:  319 Loss:  tensor(0.5057, grad_fn=<DivBackward0>)\n",
            "Epoch:  320 Loss:  tensor(0.5057, grad_fn=<DivBackward0>)\n",
            "Epoch:  321 Loss:  tensor(0.5057, grad_fn=<DivBackward0>)\n",
            "Epoch:  322 Loss:  tensor(0.5057, grad_fn=<DivBackward0>)\n",
            "Epoch:  323 Loss:  tensor(0.5057, grad_fn=<DivBackward0>)\n",
            "Epoch:  324 Loss:  tensor(0.5057, grad_fn=<DivBackward0>)\n",
            "Epoch:  325 Loss:  tensor(0.5057, grad_fn=<DivBackward0>)\n",
            "Epoch:  326 Loss:  tensor(0.5057, grad_fn=<DivBackward0>)\n",
            "Epoch:  327 Loss:  tensor(0.5057, grad_fn=<DivBackward0>)\n",
            "Epoch:  328 Loss:  tensor(0.5057, grad_fn=<DivBackward0>)\n",
            "Epoch:  329 Loss:  tensor(0.5057, grad_fn=<DivBackward0>)\n",
            "Epoch:  330 Loss:  tensor(0.5057, grad_fn=<DivBackward0>)\n",
            "Epoch:  331 Loss:  tensor(0.5057, grad_fn=<DivBackward0>)\n",
            "Epoch:  332 Loss:  tensor(0.5057, grad_fn=<DivBackward0>)\n",
            "Epoch:  333 Loss:  tensor(0.5057, grad_fn=<DivBackward0>)\n",
            "Epoch:  334 Loss:  tensor(0.5057, grad_fn=<DivBackward0>)\n",
            "Epoch:  335 Loss:  tensor(0.5057, grad_fn=<DivBackward0>)\n",
            "Epoch:  336 Loss:  tensor(0.5057, grad_fn=<DivBackward0>)\n",
            "Epoch:  337 Loss:  tensor(0.5057, grad_fn=<DivBackward0>)\n",
            "Epoch:  338 Loss:  tensor(0.5057, grad_fn=<DivBackward0>)\n",
            "Epoch:  339 Loss:  tensor(0.5057, grad_fn=<DivBackward0>)\n",
            "Epoch:  340 Loss:  tensor(0.5057, grad_fn=<DivBackward0>)\n",
            "Epoch:  341 Loss:  tensor(0.5057, grad_fn=<DivBackward0>)\n",
            "Epoch:  342 Loss:  tensor(0.5057, grad_fn=<DivBackward0>)\n",
            "Epoch:  343 Loss:  tensor(0.5057, grad_fn=<DivBackward0>)\n",
            "Epoch:  344 Loss:  tensor(0.5057, grad_fn=<DivBackward0>)\n",
            "Epoch:  345 Loss:  tensor(0.5057, grad_fn=<DivBackward0>)\n",
            "Epoch:  346 Loss:  tensor(0.5057, grad_fn=<DivBackward0>)\n",
            "Epoch:  347 Loss:  tensor(0.5057, grad_fn=<DivBackward0>)\n",
            "Epoch:  348 Loss:  tensor(0.5057, grad_fn=<DivBackward0>)\n",
            "Epoch:  349 Loss:  tensor(0.5057, grad_fn=<DivBackward0>)\n",
            "Epoch:  350 Loss:  tensor(0.5057, grad_fn=<DivBackward0>)\n",
            "Epoch:  351 Loss:  tensor(0.5057, grad_fn=<DivBackward0>)\n",
            "Epoch:  352 Loss:  tensor(0.5057, grad_fn=<DivBackward0>)\n",
            "Epoch:  353 Loss:  tensor(0.5057, grad_fn=<DivBackward0>)\n",
            "Epoch:  354 Loss:  tensor(0.5057, grad_fn=<DivBackward0>)\n",
            "Epoch:  355 Loss:  tensor(0.5057, grad_fn=<DivBackward0>)\n",
            "Epoch:  356 Loss:  tensor(0.5057, grad_fn=<DivBackward0>)\n",
            "Epoch:  357 Loss:  tensor(0.5057, grad_fn=<DivBackward0>)\n",
            "Epoch:  358 Loss:  tensor(0.5057, grad_fn=<DivBackward0>)\n",
            "Epoch:  359 Loss:  tensor(0.5057, grad_fn=<DivBackward0>)\n",
            "Epoch:  360 Loss:  tensor(0.5057, grad_fn=<DivBackward0>)\n",
            "Epoch:  361 Loss:  tensor(0.5057, grad_fn=<DivBackward0>)\n",
            "Epoch:  362 Loss:  tensor(0.5057, grad_fn=<DivBackward0>)\n",
            "Epoch:  363 Loss:  tensor(0.5057, grad_fn=<DivBackward0>)\n",
            "Epoch:  364 Loss:  tensor(0.5057, grad_fn=<DivBackward0>)\n",
            "Epoch:  365 Loss:  tensor(0.5057, grad_fn=<DivBackward0>)\n",
            "Epoch:  366 Loss:  tensor(0.5057, grad_fn=<DivBackward0>)\n",
            "Epoch:  367 Loss:  tensor(0.5057, grad_fn=<DivBackward0>)\n",
            "Epoch:  368 Loss:  tensor(0.5057, grad_fn=<DivBackward0>)\n",
            "Epoch:  369 Loss:  tensor(0.5057, grad_fn=<DivBackward0>)\n",
            "Epoch:  370 Loss:  tensor(0.5057, grad_fn=<DivBackward0>)\n",
            "Epoch:  371 Loss:  tensor(0.5057, grad_fn=<DivBackward0>)\n",
            "Epoch:  372 Loss:  tensor(0.5057, grad_fn=<DivBackward0>)\n",
            "Epoch:  373 Loss:  tensor(0.5057, grad_fn=<DivBackward0>)\n",
            "Epoch:  374 Loss:  tensor(0.5057, grad_fn=<DivBackward0>)\n",
            "Epoch:  375 Loss:  tensor(0.5057, grad_fn=<DivBackward0>)\n",
            "Epoch:  376 Loss:  tensor(0.5057, grad_fn=<DivBackward0>)\n",
            "Epoch:  377 Loss:  tensor(0.5057, grad_fn=<DivBackward0>)\n",
            "Epoch:  378 Loss:  tensor(0.5057, grad_fn=<DivBackward0>)\n",
            "Epoch:  379 Loss:  tensor(0.5057, grad_fn=<DivBackward0>)\n",
            "Epoch:  380 Loss:  tensor(0.5057, grad_fn=<DivBackward0>)\n",
            "Epoch:  381 Loss:  tensor(0.5057, grad_fn=<DivBackward0>)\n",
            "Epoch:  382 Loss:  tensor(0.5057, grad_fn=<DivBackward0>)\n",
            "Epoch:  383 Loss:  tensor(0.5057, grad_fn=<DivBackward0>)\n",
            "Epoch:  384 Loss:  tensor(0.5057, grad_fn=<DivBackward0>)\n",
            "Epoch:  385 Loss:  tensor(0.5057, grad_fn=<DivBackward0>)\n",
            "Epoch:  386 Loss:  tensor(0.5057, grad_fn=<DivBackward0>)\n",
            "Epoch:  387 Loss:  tensor(0.5057, grad_fn=<DivBackward0>)\n",
            "Epoch:  388 Loss:  tensor(0.5057, grad_fn=<DivBackward0>)\n",
            "Epoch:  389 Loss:  tensor(0.5057, grad_fn=<DivBackward0>)\n",
            "Epoch:  390 Loss:  tensor(0.5057, grad_fn=<DivBackward0>)\n",
            "Epoch:  391 Loss:  tensor(0.5057, grad_fn=<DivBackward0>)\n",
            "Epoch:  392 Loss:  tensor(0.5057, grad_fn=<DivBackward0>)\n",
            "Epoch:  393 Loss:  tensor(0.5057, grad_fn=<DivBackward0>)\n",
            "Epoch:  394 Loss:  tensor(0.5057, grad_fn=<DivBackward0>)\n",
            "Epoch:  395 Loss:  tensor(0.5057, grad_fn=<DivBackward0>)\n",
            "Epoch:  396 Loss:  tensor(0.5057, grad_fn=<DivBackward0>)\n",
            "Epoch:  397 Loss:  tensor(0.5057, grad_fn=<DivBackward0>)\n",
            "Epoch:  398 Loss:  tensor(0.5057, grad_fn=<DivBackward0>)\n",
            "Epoch:  399 Loss:  tensor(0.5057, grad_fn=<DivBackward0>)\n",
            "Epoch:  400 Loss:  tensor(0.5057, grad_fn=<DivBackward0>)\n",
            "Epoch:  401 Loss:  tensor(0.5057, grad_fn=<DivBackward0>)\n",
            "Epoch:  402 Loss:  tensor(0.5057, grad_fn=<DivBackward0>)\n",
            "Epoch:  403 Loss:  tensor(0.5057, grad_fn=<DivBackward0>)\n",
            "Epoch:  404 Loss:  tensor(0.5057, grad_fn=<DivBackward0>)\n",
            "Epoch:  405 Loss:  tensor(0.5057, grad_fn=<DivBackward0>)\n",
            "Epoch:  406 Loss:  tensor(0.5057, grad_fn=<DivBackward0>)\n",
            "Epoch:  407 Loss:  tensor(0.5057, grad_fn=<DivBackward0>)\n",
            "Epoch:  408 Loss:  tensor(0.5057, grad_fn=<DivBackward0>)\n",
            "Epoch:  409 Loss:  tensor(0.5057, grad_fn=<DivBackward0>)\n",
            "Epoch:  410 Loss:  tensor(0.5057, grad_fn=<DivBackward0>)\n",
            "Epoch:  411 Loss:  tensor(0.5057, grad_fn=<DivBackward0>)\n",
            "Epoch:  412 Loss:  tensor(0.5057, grad_fn=<DivBackward0>)\n",
            "Epoch:  413 Loss:  tensor(0.5057, grad_fn=<DivBackward0>)\n",
            "Epoch:  414 Loss:  tensor(0.5057, grad_fn=<DivBackward0>)\n",
            "Epoch:  415 Loss:  tensor(0.5057, grad_fn=<DivBackward0>)\n",
            "Epoch:  416 Loss:  tensor(0.5057, grad_fn=<DivBackward0>)\n",
            "Epoch:  417 Loss:  tensor(0.5057, grad_fn=<DivBackward0>)\n",
            "Epoch:  418 Loss:  tensor(0.5057, grad_fn=<DivBackward0>)\n",
            "Epoch:  419 Loss:  tensor(0.5057, grad_fn=<DivBackward0>)\n",
            "Epoch:  420 Loss:  tensor(0.5057, grad_fn=<DivBackward0>)\n",
            "Epoch:  421 Loss:  tensor(0.5057, grad_fn=<DivBackward0>)\n",
            "Epoch:  422 Loss:  tensor(0.5057, grad_fn=<DivBackward0>)\n",
            "Epoch:  423 Loss:  tensor(0.5057, grad_fn=<DivBackward0>)\n",
            "Epoch:  424 Loss:  tensor(0.5057, grad_fn=<DivBackward0>)\n",
            "Epoch:  425 Loss:  tensor(0.5057, grad_fn=<DivBackward0>)\n",
            "Epoch:  426 Loss:  tensor(0.5057, grad_fn=<DivBackward0>)\n",
            "Epoch:  427 Loss:  tensor(0.5057, grad_fn=<DivBackward0>)\n",
            "Epoch:  428 Loss:  tensor(0.5057, grad_fn=<DivBackward0>)\n",
            "Epoch:  429 Loss:  tensor(0.5057, grad_fn=<DivBackward0>)\n",
            "Epoch:  430 Loss:  tensor(0.5057, grad_fn=<DivBackward0>)\n",
            "Epoch:  431 Loss:  tensor(0.5057, grad_fn=<DivBackward0>)\n",
            "Epoch:  432 Loss:  tensor(0.5057, grad_fn=<DivBackward0>)\n",
            "Epoch:  433 Loss:  tensor(0.5057, grad_fn=<DivBackward0>)\n",
            "Epoch:  434 Loss:  tensor(0.5057, grad_fn=<DivBackward0>)\n",
            "Epoch:  435 Loss:  tensor(0.5057, grad_fn=<DivBackward0>)\n",
            "Epoch:  436 Loss:  tensor(0.5057, grad_fn=<DivBackward0>)\n",
            "Epoch:  437 Loss:  tensor(0.5057, grad_fn=<DivBackward0>)\n",
            "Epoch:  438 Loss:  tensor(0.5057, grad_fn=<DivBackward0>)\n",
            "Epoch:  439 Loss:  tensor(0.5057, grad_fn=<DivBackward0>)\n",
            "Epoch:  440 Loss:  tensor(0.5057, grad_fn=<DivBackward0>)\n",
            "Epoch:  441 Loss:  tensor(0.5057, grad_fn=<DivBackward0>)\n",
            "Epoch:  442 Loss:  tensor(0.5057, grad_fn=<DivBackward0>)\n",
            "Epoch:  443 Loss:  tensor(0.5057, grad_fn=<DivBackward0>)\n",
            "Epoch:  444 Loss:  tensor(0.5057, grad_fn=<DivBackward0>)\n",
            "Epoch:  445 Loss:  tensor(0.5057, grad_fn=<DivBackward0>)\n",
            "Epoch:  446 Loss:  tensor(0.5057, grad_fn=<DivBackward0>)\n",
            "Epoch:  447 Loss:  tensor(0.5057, grad_fn=<DivBackward0>)\n",
            "Epoch:  448 Loss:  tensor(0.5057, grad_fn=<DivBackward0>)\n",
            "Epoch:  449 Loss:  tensor(0.5057, grad_fn=<DivBackward0>)\n",
            "Epoch:  450 Loss:  tensor(0.5057, grad_fn=<DivBackward0>)\n",
            "Epoch:  451 Loss:  tensor(0.5057, grad_fn=<DivBackward0>)\n",
            "Epoch:  452 Loss:  tensor(0.5057, grad_fn=<DivBackward0>)\n",
            "Epoch:  453 Loss:  tensor(0.5057, grad_fn=<DivBackward0>)\n",
            "Epoch:  454 Loss:  tensor(0.5057, grad_fn=<DivBackward0>)\n",
            "Epoch:  455 Loss:  tensor(0.5057, grad_fn=<DivBackward0>)\n",
            "Epoch:  456 Loss:  tensor(0.5057, grad_fn=<DivBackward0>)\n",
            "Epoch:  457 Loss:  tensor(0.5057, grad_fn=<DivBackward0>)\n",
            "Epoch:  458 Loss:  tensor(0.5057, grad_fn=<DivBackward0>)\n",
            "Epoch:  459 Loss:  tensor(0.5057, grad_fn=<DivBackward0>)\n",
            "Epoch:  460 Loss:  tensor(0.5057, grad_fn=<DivBackward0>)\n",
            "Epoch:  461 Loss:  tensor(0.5057, grad_fn=<DivBackward0>)\n",
            "Epoch:  462 Loss:  tensor(0.5057, grad_fn=<DivBackward0>)\n",
            "Epoch:  463 Loss:  tensor(0.5057, grad_fn=<DivBackward0>)\n",
            "Epoch:  464 Loss:  tensor(0.5057, grad_fn=<DivBackward0>)\n",
            "Epoch:  465 Loss:  tensor(0.5057, grad_fn=<DivBackward0>)\n",
            "Epoch:  466 Loss:  tensor(0.5057, grad_fn=<DivBackward0>)\n",
            "Epoch:  467 Loss:  tensor(0.5057, grad_fn=<DivBackward0>)\n",
            "Epoch:  468 Loss:  tensor(0.5057, grad_fn=<DivBackward0>)\n",
            "Epoch:  469 Loss:  tensor(0.5057, grad_fn=<DivBackward0>)\n",
            "Epoch:  470 Loss:  tensor(0.5057, grad_fn=<DivBackward0>)\n",
            "Epoch:  471 Loss:  tensor(0.5057, grad_fn=<DivBackward0>)\n",
            "Epoch:  472 Loss:  tensor(0.5057, grad_fn=<DivBackward0>)\n",
            "Epoch:  473 Loss:  tensor(0.5057, grad_fn=<DivBackward0>)\n",
            "Epoch:  474 Loss:  tensor(0.5057, grad_fn=<DivBackward0>)\n",
            "Epoch:  475 Loss:  tensor(0.5057, grad_fn=<DivBackward0>)\n",
            "Epoch:  476 Loss:  tensor(0.5057, grad_fn=<DivBackward0>)\n",
            "Epoch:  477 Loss:  tensor(0.5057, grad_fn=<DivBackward0>)\n",
            "Epoch:  478 Loss:  tensor(0.5057, grad_fn=<DivBackward0>)\n",
            "Epoch:  479 Loss:  tensor(0.5057, grad_fn=<DivBackward0>)\n",
            "Epoch:  480 Loss:  tensor(0.5057, grad_fn=<DivBackward0>)\n",
            "Epoch:  481 Loss:  tensor(0.5057, grad_fn=<DivBackward0>)\n",
            "Epoch:  482 Loss:  tensor(0.5057, grad_fn=<DivBackward0>)\n",
            "Epoch:  483 Loss:  tensor(0.5057, grad_fn=<DivBackward0>)\n",
            "Epoch:  484 Loss:  tensor(0.5057, grad_fn=<DivBackward0>)\n",
            "Epoch:  485 Loss:  tensor(0.5057, grad_fn=<DivBackward0>)\n",
            "Epoch:  486 Loss:  tensor(0.5057, grad_fn=<DivBackward0>)\n",
            "Epoch:  487 Loss:  tensor(0.5057, grad_fn=<DivBackward0>)\n",
            "Epoch:  488 Loss:  tensor(0.5057, grad_fn=<DivBackward0>)\n",
            "Epoch:  489 Loss:  tensor(0.5057, grad_fn=<DivBackward0>)\n",
            "Epoch:  490 Loss:  tensor(0.5057, grad_fn=<DivBackward0>)\n",
            "Epoch:  491 Loss:  tensor(0.5057, grad_fn=<DivBackward0>)\n",
            "Epoch:  492 Loss:  tensor(0.5057, grad_fn=<DivBackward0>)\n",
            "Epoch:  493 Loss:  tensor(0.5057, grad_fn=<DivBackward0>)\n",
            "Epoch:  494 Loss:  tensor(0.5057, grad_fn=<DivBackward0>)\n",
            "Epoch:  495 Loss:  tensor(0.5057, grad_fn=<DivBackward0>)\n",
            "Epoch:  496 Loss:  tensor(0.5057, grad_fn=<DivBackward0>)\n",
            "Epoch:  497 Loss:  tensor(0.5057, grad_fn=<DivBackward0>)\n",
            "Epoch:  498 Loss:  tensor(0.5057, grad_fn=<DivBackward0>)\n",
            "Epoch:  499 Loss:  tensor(0.5057, grad_fn=<DivBackward0>)\n",
            "CPU times: user 1.12 s, sys: 218 ms, total: 1.33 s\n",
            "Wall time: 1.14 s\n"
          ]
        },
        {
          "output_type": "execute_result",
          "data": {
            "text/plain": [
              "[<matplotlib.lines.Line2D at 0x7fe8043cc4d0>]"
            ]
          },
          "metadata": {},
          "execution_count": 37
        },
        {
          "output_type": "display_data",
          "data": {
            "text/plain": [
              "<Figure size 432x288 with 1 Axes>"
            ],
            "image/png": "[encoded data removed]"
          },
          "metadata": {
            "needs_background": "light"
          }
        }
      ]
    },
    {
      "cell_type": "code",
      "metadata": {
        "trusted": true,
        "_uuid": "c4820ca48b78f4dc242d80a9ec3ec6aca1aef671",
        "id": "bYeiKD0HLOx_",
        "colab": {
          "base_uri": "https://localhost:8080/"
        },
        "outputId": "6f937e49-4f8a-4271-f57c-80e6bf938405"
      },
      "source": [
        "# Calculate loss\n",
        "preds = model(inputs)\n",
        "loss = mse(preds, targets)\n",
        "print(loss)"
      ],
      "execution_count": null,
      "outputs": [
        {
          "output_type": "stream",
          "name": "stdout",
          "text": [
            "tensor(0.5057, grad_fn=<DivBackward0>)\n"
          ]
        }
      ]
    },
    {
      "cell_type": "code",
      "metadata": {
        "trusted": true,
        "_uuid": "bbcd65fa7094cec187565e54c2107e683bea787b",
        "id": "VXd6eqfMLOyF",
        "colab": {
          "base_uri": "https://localhost:8080/"
        },
        "outputId": "30386b73-d87e-471e-e470-8c0f6eb69886"
      },
      "source": [
        "# Print predictions\n",
        "preds"
      ],
      "execution_count": null,
      "outputs": [
        {
          "output_type": "execute_result",
          "data": {
            "text/plain": [
              "tensor([[ 57.2407,  70.1169],\n",
              "        [ 82.1597, 100.7909],\n",
              "        [118.6803, 132.9892],\n",
              "        [ 21.0719,  37.0394],\n",
              "        [101.9330, 119.1075]], grad_fn=<AddBackward0>)"
            ]
          },
          "metadata": {},
          "execution_count": 39
        }
      ]
    },
    {
      "cell_type": "code",
      "metadata": {
        "trusted": true,
        "_uuid": "addec2c4eca8edfcae5544ea2cc717182c21d90f",
        "id": "JzxKB2lVLOyJ",
        "colab": {
          "base_uri": "https://localhost:8080/"
        },
        "outputId": "b20714ed-c00d-4687-dc7e-9d2e35f3f2f2"
      },
      "source": [
        "# Print targets\n",
        "targets"
      ],
      "execution_count": null,
      "outputs": [
        {
          "output_type": "execute_result",
          "data": {
            "text/plain": [
              "tensor([[ 56.,  70.],\n",
              "        [ 81., 101.],\n",
              "        [119., 133.],\n",
              "        [ 22.,  37.],\n",
              "        [103., 119.]])"
            ]
          },
          "metadata": {},
          "execution_count": 40
        }
      ]
    },
    {
      "cell_type": "markdown",
      "metadata": {
        "_uuid": "ecc6e79cdfb6a8ca882895ccc895b61b960b0a04",
        "id": "EQlnJQ-ILOyO"
      },
      "source": [
        "## Linear Regression Model using PyTorch built-ins\n",
        "\n",
        "Let's re-implement the same model using some built-in functions and classes from PyTorch."
      ]
    },
    {
      "cell_type": "code",
      "metadata": {
        "trusted": true,
        "_uuid": "ce66cf0d09a3f38bf2f00ea40418c56d98f1f814",
        "id": "eTOseKvpLOyP"
      },
      "source": [
        "# Imports\n",
        "import torch.nn as nn"
      ],
      "execution_count": null,
      "outputs": []
    },
    {
      "cell_type": "code",
      "metadata": {
        "trusted": true,
        "_uuid": "74bb18bd01ac809079eeb8d05695206e8ba02069",
        "id": "5pCO6pPpLOyW"
      },
      "source": [
        "# Input (temp, rainfall, humidity)\n",
        "inputs = np.array([[73, 67, 43], [91, 88, 64], [87, 134, 58], [102, 43, 37], [69, 96, 70], [73, 67, 43], [91, 88, 64], [87, 134, 58], [102, 43, 37], [69, 96, 70], [73, 67, 43], [91, 88, 64], [87, 134, 58], [102, 43, 37], [69, 96, 70]], dtype='float32')\n",
        "# Targets (apples, oranges)\n",
        "targets = np.array([[56, 70], [81, 101], [119, 133], [22, 37], [103, 119], \n",
        "                    [56, 70], [81, 101], [119, 133], [22, 37], [103, 119], \n",
        "                    [56, 70], [81, 101], [119, 133], [22, 37], [103, 119]], dtype='float32')"
      ],
      "execution_count": null,
      "outputs": []
    },
    {
      "cell_type": "code",
      "metadata": {
        "trusted": true,
        "_uuid": "d94b355f55250e9c7dcff668920f02d7c5c04925",
        "id": "gcIX043gLOyc"
      },
      "source": [
        "inputs = torch.from_numpy(inputs)\n",
        "targets = torch.from_numpy(targets)"
      ],
      "execution_count": null,
      "outputs": []
    },
    {
      "cell_type": "markdown",
      "metadata": {
        "_uuid": "a0665466eb5401f40a816b323a34450b2c052c41",
        "id": "iR-87prLLOyg"
      },
      "source": [
        "### Dataset and DataLoader\n",
        "\n",
        "We'll create a `TensorDataset`, which allows access to rows from `inputs` and `targets` as tuples. We'll also create a DataLoader, to split the data into batches while training. It also provides other utilities like shuffling and sampling."
      ]
    },
    {
      "cell_type": "code",
      "metadata": {
        "trusted": true,
        "_uuid": "206f5fd0473386476b23477bf38d2c327b6376c9",
        "id": "S52iL_aULOyh"
      },
      "source": [
        "# Import tensor dataset & data loader\n",
        "from torch.utils.data import TensorDataset, DataLoader"
      ],
      "execution_count": null,
      "outputs": []
    },
    {
      "cell_type": "code",
      "metadata": {
        "trusted": true,
        "_uuid": "c47a4f2f86fda3918094e01cf7ab0698bbb5acc7",
        "id": "CP6k_D6HLOyo",
        "colab": {
          "base_uri": "https://localhost:8080/"
        },
        "outputId": "a906d973-c7fe-4803-b4fa-4299cb080d49"
      },
      "source": [
        "# Define dataset\n",
        "train_ds = TensorDataset(inputs, targets)\n",
        "train_ds.tensors"
      ],
      "execution_count": null,
      "outputs": [
        {
          "output_type": "execute_result",
          "data": {
            "text/plain": [
              "(tensor([[ 73.,  67.,  43.],\n",
              "         [ 91.,  88.,  64.],\n",
              "         [ 87., 134.,  58.],\n",
              "         [102.,  43.,  37.],\n",
              "         [ 69.,  96.,  70.],\n",
              "         [ 73.,  67.,  43.],\n",
              "         [ 91.,  88.,  64.],\n",
              "         [ 87., 134.,  58.],\n",
              "         [102.,  43.,  37.],\n",
              "         [ 69.,  96.,  70.],\n",
              "         [ 73.,  67.,  43.],\n",
              "         [ 91.,  88.,  64.],\n",
              "         [ 87., 134.,  58.],\n",
              "         [102.,  43.,  37.],\n",
              "         [ 69.,  96.,  70.]]), tensor([[ 56.,  70.],\n",
              "         [ 81., 101.],\n",
              "         [119., 133.],\n",
              "         [ 22.,  37.],\n",
              "         [103., 119.],\n",
              "         [ 56.,  70.],\n",
              "         [ 81., 101.],\n",
              "         [119., 133.],\n",
              "         [ 22.,  37.],\n",
              "         [103., 119.],\n",
              "         [ 56.,  70.],\n",
              "         [ 81., 101.],\n",
              "         [119., 133.],\n",
              "         [ 22.,  37.],\n",
              "         [103., 119.]]))"
            ]
          },
          "metadata": {
            "tags": []
          },
          "execution_count": 82
        }
      ]
    },
    {
      "cell_type": "code",
      "metadata": {
        "colab": {
          "base_uri": "https://localhost:8080/"
        },
        "id": "Yv2z17PiTtbO",
        "outputId": "6d953be2-b324-402f-d91c-051d68dfa82e"
      },
      "source": [
        "train_ds.tensors[0]"
      ],
      "execution_count": null,
      "outputs": [
        {
          "output_type": "execute_result",
          "data": {
            "text/plain": [
              "tensor([[ 73.,  67.,  43.],\n",
              "        [ 91.,  88.,  64.],\n",
              "        [ 87., 134.,  58.],\n",
              "        [102.,  43.,  37.],\n",
              "        [ 69.,  96.,  70.],\n",
              "        [ 73.,  67.,  43.],\n",
              "        [ 91.,  88.,  64.],\n",
              "        [ 87., 134.,  58.],\n",
              "        [102.,  43.,  37.],\n",
              "        [ 69.,  96.,  70.],\n",
              "        [ 73.,  67.,  43.],\n",
              "        [ 91.,  88.,  64.],\n",
              "        [ 87., 134.,  58.],\n",
              "        [102.,  43.,  37.],\n",
              "        [ 69.,  96.,  70.]])"
            ]
          },
          "metadata": {
            "tags": []
          },
          "execution_count": 83
        }
      ]
    },
    {
      "cell_type": "code",
      "metadata": {
        "colab": {
          "base_uri": "https://localhost:8080/"
        },
        "id": "RP-TRQ4VTyGb",
        "outputId": "f1bbaa1d-e124-4bd9-cae4-899c9dd15140"
      },
      "source": [
        "train_ds.tensors[1]"
      ],
      "execution_count": null,
      "outputs": [
        {
          "output_type": "execute_result",
          "data": {
            "text/plain": [
              "tensor([[ 56.,  70.],\n",
              "        [ 81., 101.],\n",
              "        [119., 133.],\n",
              "        [ 22.,  37.],\n",
              "        [103., 119.],\n",
              "        [ 56.,  70.],\n",
              "        [ 81., 101.],\n",
              "        [119., 133.],\n",
              "        [ 22.,  37.],\n",
              "        [103., 119.],\n",
              "        [ 56.,  70.],\n",
              "        [ 81., 101.],\n",
              "        [119., 133.],\n",
              "        [ 22.,  37.],\n",
              "        [103., 119.]])"
            ]
          },
          "metadata": {
            "tags": []
          },
          "execution_count": 84
        }
      ]
    },
    {
      "cell_type": "code",
      "metadata": {
        "trusted": true,
        "_uuid": "0a2f69126319d738b82ae67d5d404ecd6161bfac",
        "id": "kwR2mo04LOy2",
        "colab": {
          "base_uri": "https://localhost:8080/"
        },
        "outputId": "83a46f58-68bd-4ffd-a1fa-24561dc9a3b6"
      },
      "source": [
        "# Define data loader\n",
        "batch_size = 5\n",
        "\n",
        "train_dl = DataLoader(train_ds, batch_size, shuffle=True)\n",
        "\n",
        "next(iter(train_dl))"
      ],
      "execution_count": null,
      "outputs": [
        {
          "output_type": "execute_result",
          "data": {
            "text/plain": [
              "[tensor([[ 87., 134.,  58.],\n",
              "         [ 87., 134.,  58.],\n",
              "         [ 73.,  67.,  43.],\n",
              "         [ 73.,  67.,  43.],\n",
              "         [102.,  43.,  37.]]), tensor([[119., 133.],\n",
              "         [119., 133.],\n",
              "         [ 56.,  70.],\n",
              "         [ 56.,  70.],\n",
              "         [ 22.,  37.]])]"
            ]
          },
          "metadata": {
            "tags": []
          },
          "execution_count": 86
        }
      ]
    },
    {
      "cell_type": "code",
      "metadata": {
        "colab": {
          "base_uri": "https://localhost:8080/"
        },
        "id": "dhDw4cd8U44b",
        "outputId": "2e11b551-1c6c-4aee-a539-dffb095da349"
      },
      "source": [
        "next(iter(train_dl))"
      ],
      "execution_count": null,
      "outputs": [
        {
          "output_type": "execute_result",
          "data": {
            "text/plain": [
              "[tensor([[ 73.,  67.,  43.],\n",
              "         [102.,  43.,  37.],\n",
              "         [ 73.,  67.,  43.],\n",
              "         [ 73.,  67.,  43.],\n",
              "         [ 91.,  88.,  64.]]), tensor([[ 56.,  70.],\n",
              "         [ 22.,  37.],\n",
              "         [ 56.,  70.],\n",
              "         [ 56.,  70.],\n",
              "         [ 81., 101.]])]"
            ]
          },
          "metadata": {
            "tags": []
          },
          "execution_count": 87
        }
      ]
    },
    {
      "cell_type": "code",
      "metadata": {
        "colab": {
          "base_uri": "https://localhost:8080/"
        },
        "id": "6o-Gh8-yU9p2",
        "outputId": "ab23e5e2-8cb9-4b11-c36a-f3262489f23a"
      },
      "source": [
        "next(iter(train_dl))"
      ],
      "execution_count": null,
      "outputs": [
        {
          "output_type": "execute_result",
          "data": {
            "text/plain": [
              "[tensor([[ 87., 134.,  58.],\n",
              "         [ 91.,  88.,  64.],\n",
              "         [ 87., 134.,  58.],\n",
              "         [ 69.,  96.,  70.],\n",
              "         [ 91.,  88.,  64.]]), tensor([[119., 133.],\n",
              "         [ 81., 101.],\n",
              "         [119., 133.],\n",
              "         [103., 119.],\n",
              "         [ 81., 101.]])]"
            ]
          },
          "metadata": {
            "tags": []
          },
          "execution_count": 88
        }
      ]
    },
    {
      "cell_type": "markdown",
      "metadata": {
        "_uuid": "276a262e1b9e3a048bcd32989013f9c501c59037",
        "id": "9ycwXuSPLOy6"
      },
      "source": [
        "### nn.Linear\n",
        "Instead of initializing the weights & biases manually, we can define the model using `nn.Linear`."
      ]
    },
    {
      "cell_type": "code",
      "metadata": {
        "trusted": true,
        "_uuid": "59da3506559a0640d80d18f77b02726a1757be2f",
        "id": "_2QPqsbALOy6",
        "colab": {
          "base_uri": "https://localhost:8080/"
        },
        "outputId": "d2a08f23-2de1-4f2e-a277-710916f97d22"
      },
      "source": [
        "# Define model\n",
        "model = nn.Linear(3, 2)\n",
        "print(model.weight)\n",
        "print(model.bias)"
      ],
      "execution_count": null,
      "outputs": [
        {
          "output_type": "stream",
          "text": [
            "Parameter containing:\n",
            "tensor([[0.1290, 0.3449, 0.0140],\n",
            "        [0.4135, 0.2074, 0.3740]], requires_grad=True)\n",
            "Parameter containing:\n",
            "tensor([-0.5239,  0.2653], requires_grad=True)\n"
          ],
          "name": "stdout"
        }
      ]
    },
    {
      "cell_type": "code",
      "metadata": {
        "id": "R1B0WbpYOvtA",
        "colab": {
          "base_uri": "https://localhost:8080/"
        },
        "outputId": "98eed94b-d29d-4502-d220-1de0e5b0bf4c"
      },
      "source": [
        "model.parameters"
      ],
      "execution_count": null,
      "outputs": [
        {
          "output_type": "execute_result",
          "data": {
            "text/plain": [
              "<bound method Module.parameters of Linear(in_features=3, out_features=2, bias=True)>"
            ]
          },
          "metadata": {
            "tags": []
          },
          "execution_count": 91
        }
      ]
    },
    {
      "cell_type": "markdown",
      "metadata": {
        "_uuid": "b3a4a8c499a4680f2533329712de034671dd1cdd",
        "id": "o7romzGMLOy_"
      },
      "source": [
        "### Optimizer\n",
        "Instead of manually manipulating the weights & biases using gradients, we can use the optimizer `optim.SGD`."
      ]
    },
    {
      "cell_type": "code",
      "metadata": {
        "trusted": true,
        "_uuid": "1848398bd1ced8c25a7bb55612cf32a774500280",
        "id": "SBhZTampLOzA"
      },
      "source": [
        "# Define optimizer\n",
        "opt = torch.optim.SGD(model.parameters(), lr=1e-5)"
      ],
      "execution_count": null,
      "outputs": []
    },
    {
      "cell_type": "markdown",
      "metadata": {
        "_uuid": "28cbe62be55010bd11b31d819cff38da5a772b18",
        "id": "bl0Ttb38LOzF"
      },
      "source": [
        "### Loss Function\n",
        "Instead of defining a loss function manually, we can use the built-in loss function `mse_loss`."
      ]
    },
    {
      "cell_type": "code",
      "metadata": {
        "trusted": true,
        "_uuid": "69d7f4e8e27ccd077f711da27f8bede8aa711893",
        "id": "b9s2DOcNLOzH"
      },
      "source": [
        "# Import nn.functional\n",
        "import torch.nn.functional as F"
      ],
      "execution_count": null,
      "outputs": []
    },
    {
      "cell_type": "code",
      "metadata": {
        "trusted": true,
        "_uuid": "a02ff888ed4be720fd9ca376022d8fdcf2559683",
        "id": "hHIQ6sARLOzK"
      },
      "source": [
        "# Define loss function\n",
        "loss_fn = F.mse_loss"
      ],
      "execution_count": null,
      "outputs": []
    },
    {
      "cell_type": "code",
      "metadata": {
        "colab": {
          "base_uri": "https://localhost:8080/"
        },
        "id": "UsGxSYg6XASY",
        "outputId": "c24e5f2f-f2fb-4046-b061-341e0105e30a"
      },
      "source": [
        "model(inputs)"
      ],
      "execution_count": null,
      "outputs": [
        {
          "output_type": "execute_result",
          "data": {
            "text/plain": [
              "tensor([[32.6003, 60.4300],\n",
              "        [42.4585, 80.0829],\n",
              "        [57.7218, 85.7234],\n",
              "        [27.9802, 65.2015],\n",
              "        [42.4638, 74.8882],\n",
              "        [32.6003, 60.4300],\n",
              "        [42.4585, 80.0829],\n",
              "        [57.7218, 85.7234],\n",
              "        [27.9802, 65.2015],\n",
              "        [42.4638, 74.8882],\n",
              "        [32.6003, 60.4300],\n",
              "        [42.4585, 80.0829],\n",
              "        [57.7218, 85.7234],\n",
              "        [27.9802, 65.2015],\n",
              "        [42.4638, 74.8882]], grad_fn=<AddmmBackward>)"
            ]
          },
          "metadata": {
            "tags": []
          },
          "execution_count": 95
        }
      ]
    },
    {
      "cell_type": "code",
      "metadata": {
        "trusted": true,
        "_uuid": "a540adf76725ea9968025f6c029fdd251bdada6c",
        "id": "udmKzeTTLOzU",
        "colab": {
          "base_uri": "https://localhost:8080/"
        },
        "outputId": "0357c01b-c0b2-4a38-97cc-396c41419c54"
      },
      "source": [
        "loss = loss_fn(model(inputs), targets)\n",
        "print(loss)"
      ],
      "execution_count": null,
      "outputs": [
        {
          "output_type": "stream",
          "text": [
            "tensor(1499.3762, grad_fn=<MseLossBackward>)\n"
          ],
          "name": "stdout"
        }
      ]
    },
    {
      "cell_type": "markdown",
      "metadata": {
        "_uuid": "e833614a69ff18c554a3d89f643ae2f11e0260f6",
        "id": "sFLnL9fCLOzZ"
      },
      "source": [
        "### Train the model\n",
        "\n",
        "We are ready to train the model now. We can define a utility function `fit` which trains the model for a given number of epochs."
      ]
    },
    {
      "cell_type": "code",
      "metadata": {
        "trusted": true,
        "_uuid": "128bc7260221f5338edf8b503c75f0c7d1cce7e8",
        "id": "4IIAgVyCLOzb"
      },
      "source": [
        "# Define a utility function to train the model\n",
        "def fit(num_epochs, model, loss_fn, opt):\n",
        "    for epoch in range(num_epochs):\n",
        "        for xb,yb in train_dl:\n",
        "            # Generate predictions\n",
        "            pred = model(xb)\n",
        "            loss = loss_fn(pred, yb)\n",
        "            # Perform gradient descent\n",
        "            loss.backward()\n",
        "            opt.step()\n",
        "            opt.zero_grad()\n",
        "        print('Training loss: ', loss_fn(model(inputs), targets))"
      ],
      "execution_count": null,
      "outputs": []
    },
    {
      "cell_type": "code",
      "metadata": {
        "trusted": true,
        "_uuid": "ae8ca4686cf6a68f6c9ca93bf3d227abe96c2201",
        "id": "55vfCk9gLOzg",
        "colab": {
          "base_uri": "https://localhost:8080/"
        },
        "outputId": "380b4fc1-7c0a-4377-dad4-fa979f59cb9c"
      },
      "source": [
        "%%time\n",
        "# Train the model for 100 epochs\n",
        "fit(200, model, loss_fn, opt)"
      ],
      "execution_count": null,
      "outputs": [
        {
          "output_type": "stream",
          "text": [
            "Training loss:  tensor(23.3439, grad_fn=<MseLossBackward>)\n",
            "Training loss:  tensor(22.8981, grad_fn=<MseLossBackward>)\n",
            "Training loss:  tensor(22.4739, grad_fn=<MseLossBackward>)\n",
            "Training loss:  tensor(22.0559, grad_fn=<MseLossBackward>)\n",
            "Training loss:  tensor(21.6555, grad_fn=<MseLossBackward>)\n",
            "Training loss:  tensor(21.2563, grad_fn=<MseLossBackward>)\n",
            "Training loss:  tensor(20.8799, grad_fn=<MseLossBackward>)\n",
            "Training loss:  tensor(20.5127, grad_fn=<MseLossBackward>)\n",
            "Training loss:  tensor(20.1656, grad_fn=<MseLossBackward>)\n",
            "Training loss:  tensor(19.8516, grad_fn=<MseLossBackward>)\n",
            "Training loss:  tensor(19.4898, grad_fn=<MseLossBackward>)\n",
            "Training loss:  tensor(19.1521, grad_fn=<MseLossBackward>)\n",
            "Training loss:  tensor(18.8492, grad_fn=<MseLossBackward>)\n",
            "Training loss:  tensor(18.5618, grad_fn=<MseLossBackward>)\n",
            "Training loss:  tensor(18.2606, grad_fn=<MseLossBackward>)\n",
            "Training loss:  tensor(17.9680, grad_fn=<MseLossBackward>)\n",
            "Training loss:  tensor(17.6911, grad_fn=<MseLossBackward>)\n",
            "Training loss:  tensor(17.4182, grad_fn=<MseLossBackward>)\n",
            "Training loss:  tensor(17.1617, grad_fn=<MseLossBackward>)\n",
            "Training loss:  tensor(16.9046, grad_fn=<MseLossBackward>)\n",
            "Training loss:  tensor(16.6601, grad_fn=<MseLossBackward>)\n",
            "Training loss:  tensor(16.4314, grad_fn=<MseLossBackward>)\n",
            "Training loss:  tensor(16.1889, grad_fn=<MseLossBackward>)\n",
            "Training loss:  tensor(15.9594, grad_fn=<MseLossBackward>)\n",
            "Training loss:  tensor(15.7444, grad_fn=<MseLossBackward>)\n",
            "Training loss:  tensor(15.5313, grad_fn=<MseLossBackward>)\n",
            "Training loss:  tensor(15.3171, grad_fn=<MseLossBackward>)\n",
            "Training loss:  tensor(15.1170, grad_fn=<MseLossBackward>)\n",
            "Training loss:  tensor(14.9119, grad_fn=<MseLossBackward>)\n",
            "Training loss:  tensor(14.7233, grad_fn=<MseLossBackward>)\n",
            "Training loss:  tensor(14.5547, grad_fn=<MseLossBackward>)\n",
            "Training loss:  tensor(14.3634, grad_fn=<MseLossBackward>)\n",
            "Training loss:  tensor(14.1897, grad_fn=<MseLossBackward>)\n",
            "Training loss:  tensor(14.0360, grad_fn=<MseLossBackward>)\n",
            "Training loss:  tensor(13.8521, grad_fn=<MseLossBackward>)\n",
            "Training loss:  tensor(13.6919, grad_fn=<MseLossBackward>)\n",
            "Training loss:  tensor(13.5280, grad_fn=<MseLossBackward>)\n",
            "Training loss:  tensor(13.3736, grad_fn=<MseLossBackward>)\n",
            "Training loss:  tensor(13.2323, grad_fn=<MseLossBackward>)\n",
            "Training loss:  tensor(13.0920, grad_fn=<MseLossBackward>)\n",
            "Training loss:  tensor(12.9530, grad_fn=<MseLossBackward>)\n",
            "Training loss:  tensor(12.8210, grad_fn=<MseLossBackward>)\n",
            "Training loss:  tensor(12.6661, grad_fn=<MseLossBackward>)\n",
            "Training loss:  tensor(12.5352, grad_fn=<MseLossBackward>)\n",
            "Training loss:  tensor(12.4224, grad_fn=<MseLossBackward>)\n",
            "Training loss:  tensor(12.3063, grad_fn=<MseLossBackward>)\n",
            "Training loss:  tensor(12.1695, grad_fn=<MseLossBackward>)\n",
            "Training loss:  tensor(12.0346, grad_fn=<MseLossBackward>)\n",
            "Training loss:  tensor(11.9254, grad_fn=<MseLossBackward>)\n",
            "Training loss:  tensor(11.8210, grad_fn=<MseLossBackward>)\n",
            "Training loss:  tensor(11.6878, grad_fn=<MseLossBackward>)\n",
            "Training loss:  tensor(11.5741, grad_fn=<MseLossBackward>)\n",
            "Training loss:  tensor(11.4640, grad_fn=<MseLossBackward>)\n",
            "Training loss:  tensor(11.3589, grad_fn=<MseLossBackward>)\n",
            "Training loss:  tensor(11.2583, grad_fn=<MseLossBackward>)\n",
            "Training loss:  tensor(11.1594, grad_fn=<MseLossBackward>)\n",
            "Training loss:  tensor(11.0606, grad_fn=<MseLossBackward>)\n",
            "Training loss:  tensor(10.9639, grad_fn=<MseLossBackward>)\n",
            "Training loss:  tensor(10.8810, grad_fn=<MseLossBackward>)\n",
            "Training loss:  tensor(10.7778, grad_fn=<MseLossBackward>)\n",
            "Training loss:  tensor(10.7004, grad_fn=<MseLossBackward>)\n",
            "Training loss:  tensor(10.6124, grad_fn=<MseLossBackward>)\n",
            "Training loss:  tensor(10.5127, grad_fn=<MseLossBackward>)\n",
            "Training loss:  tensor(10.4371, grad_fn=<MseLossBackward>)\n",
            "Training loss:  tensor(10.3449, grad_fn=<MseLossBackward>)\n",
            "Training loss:  tensor(10.2660, grad_fn=<MseLossBackward>)\n",
            "Training loss:  tensor(10.1796, grad_fn=<MseLossBackward>)\n",
            "Training loss:  tensor(10.1131, grad_fn=<MseLossBackward>)\n",
            "Training loss:  tensor(10.0240, grad_fn=<MseLossBackward>)\n",
            "Training loss:  tensor(9.9487, grad_fn=<MseLossBackward>)\n",
            "Training loss:  tensor(9.8892, grad_fn=<MseLossBackward>)\n",
            "Training loss:  tensor(9.7908, grad_fn=<MseLossBackward>)\n",
            "Training loss:  tensor(9.7156, grad_fn=<MseLossBackward>)\n",
            "Training loss:  tensor(9.6432, grad_fn=<MseLossBackward>)\n",
            "Training loss:  tensor(9.5747, grad_fn=<MseLossBackward>)\n",
            "Training loss:  tensor(9.5091, grad_fn=<MseLossBackward>)\n",
            "Training loss:  tensor(9.4350, grad_fn=<MseLossBackward>)\n",
            "Training loss:  tensor(9.3711, grad_fn=<MseLossBackward>)\n",
            "Training loss:  tensor(9.3017, grad_fn=<MseLossBackward>)\n",
            "Training loss:  tensor(9.2432, grad_fn=<MseLossBackward>)\n",
            "Training loss:  tensor(9.1828, grad_fn=<MseLossBackward>)\n",
            "Training loss:  tensor(9.1067, grad_fn=<MseLossBackward>)\n",
            "Training loss:  tensor(9.0437, grad_fn=<MseLossBackward>)\n",
            "Training loss:  tensor(8.9849, grad_fn=<MseLossBackward>)\n",
            "Training loss:  tensor(8.9197, grad_fn=<MseLossBackward>)\n",
            "Training loss:  tensor(8.8588, grad_fn=<MseLossBackward>)\n",
            "Training loss:  tensor(8.8025, grad_fn=<MseLossBackward>)\n",
            "Training loss:  tensor(8.7417, grad_fn=<MseLossBackward>)\n",
            "Training loss:  tensor(8.6818, grad_fn=<MseLossBackward>)\n",
            "Training loss:  tensor(8.6260, grad_fn=<MseLossBackward>)\n",
            "Training loss:  tensor(8.5713, grad_fn=<MseLossBackward>)\n",
            "Training loss:  tensor(8.5135, grad_fn=<MseLossBackward>)\n",
            "Training loss:  tensor(8.4621, grad_fn=<MseLossBackward>)\n",
            "Training loss:  tensor(8.4085, grad_fn=<MseLossBackward>)\n",
            "Training loss:  tensor(8.3509, grad_fn=<MseLossBackward>)\n",
            "Training loss:  tensor(8.2984, grad_fn=<MseLossBackward>)\n",
            "Training loss:  tensor(8.2462, grad_fn=<MseLossBackward>)\n",
            "Training loss:  tensor(8.1948, grad_fn=<MseLossBackward>)\n",
            "Training loss:  tensor(8.1453, grad_fn=<MseLossBackward>)\n",
            "Training loss:  tensor(8.1079, grad_fn=<MseLossBackward>)\n",
            "Training loss:  tensor(8.0490, grad_fn=<MseLossBackward>)\n",
            "Training loss:  tensor(7.9926, grad_fn=<MseLossBackward>)\n",
            "Training loss:  tensor(7.9506, grad_fn=<MseLossBackward>)\n",
            "Training loss:  tensor(7.9042, grad_fn=<MseLossBackward>)\n",
            "Training loss:  tensor(7.8472, grad_fn=<MseLossBackward>)\n",
            "Training loss:  tensor(7.8112, grad_fn=<MseLossBackward>)\n",
            "Training loss:  tensor(7.7597, grad_fn=<MseLossBackward>)\n",
            "Training loss:  tensor(7.7069, grad_fn=<MseLossBackward>)\n",
            "Training loss:  tensor(7.6617, grad_fn=<MseLossBackward>)\n",
            "Training loss:  tensor(7.6148, grad_fn=<MseLossBackward>)\n",
            "Training loss:  tensor(7.5813, grad_fn=<MseLossBackward>)\n",
            "Training loss:  tensor(7.5317, grad_fn=<MseLossBackward>)\n",
            "Training loss:  tensor(7.4863, grad_fn=<MseLossBackward>)\n",
            "Training loss:  tensor(7.4400, grad_fn=<MseLossBackward>)\n",
            "Training loss:  tensor(7.4147, grad_fn=<MseLossBackward>)\n",
            "Training loss:  tensor(7.3581, grad_fn=<MseLossBackward>)\n",
            "Training loss:  tensor(7.3108, grad_fn=<MseLossBackward>)\n",
            "Training loss:  tensor(7.2665, grad_fn=<MseLossBackward>)\n",
            "Training loss:  tensor(7.2250, grad_fn=<MseLossBackward>)\n",
            "Training loss:  tensor(7.1888, grad_fn=<MseLossBackward>)\n",
            "Training loss:  tensor(7.1385, grad_fn=<MseLossBackward>)\n",
            "Training loss:  tensor(7.0980, grad_fn=<MseLossBackward>)\n",
            "Training loss:  tensor(7.0634, grad_fn=<MseLossBackward>)\n",
            "Training loss:  tensor(7.0174, grad_fn=<MseLossBackward>)\n",
            "Training loss:  tensor(6.9775, grad_fn=<MseLossBackward>)\n",
            "Training loss:  tensor(6.9400, grad_fn=<MseLossBackward>)\n",
            "Training loss:  tensor(6.8991, grad_fn=<MseLossBackward>)\n",
            "Training loss:  tensor(6.8630, grad_fn=<MseLossBackward>)\n",
            "Training loss:  tensor(6.8237, grad_fn=<MseLossBackward>)\n",
            "Training loss:  tensor(6.7888, grad_fn=<MseLossBackward>)\n",
            "Training loss:  tensor(6.7493, grad_fn=<MseLossBackward>)\n",
            "Training loss:  tensor(6.7099, grad_fn=<MseLossBackward>)\n",
            "Training loss:  tensor(6.6715, grad_fn=<MseLossBackward>)\n",
            "Training loss:  tensor(6.6359, grad_fn=<MseLossBackward>)\n",
            "Training loss:  tensor(6.5965, grad_fn=<MseLossBackward>)\n",
            "Training loss:  tensor(6.5614, grad_fn=<MseLossBackward>)\n",
            "Training loss:  tensor(6.5274, grad_fn=<MseLossBackward>)\n",
            "Training loss:  tensor(6.4929, grad_fn=<MseLossBackward>)\n",
            "Training loss:  tensor(6.4525, grad_fn=<MseLossBackward>)\n",
            "Training loss:  tensor(6.4170, grad_fn=<MseLossBackward>)\n",
            "Training loss:  tensor(6.3850, grad_fn=<MseLossBackward>)\n",
            "Training loss:  tensor(6.3498, grad_fn=<MseLossBackward>)\n",
            "Training loss:  tensor(6.3317, grad_fn=<MseLossBackward>)\n",
            "Training loss:  tensor(6.3105, grad_fn=<MseLossBackward>)\n",
            "Training loss:  tensor(6.2459, grad_fn=<MseLossBackward>)\n",
            "Training loss:  tensor(6.2178, grad_fn=<MseLossBackward>)\n",
            "Training loss:  tensor(6.1777, grad_fn=<MseLossBackward>)\n",
            "Training loss:  tensor(6.1450, grad_fn=<MseLossBackward>)\n",
            "Training loss:  tensor(6.1111, grad_fn=<MseLossBackward>)\n",
            "Training loss:  tensor(6.0882, grad_fn=<MseLossBackward>)\n",
            "Training loss:  tensor(6.0626, grad_fn=<MseLossBackward>)\n",
            "Training loss:  tensor(6.0183, grad_fn=<MseLossBackward>)\n",
            "Training loss:  tensor(5.9793, grad_fn=<MseLossBackward>)\n",
            "Training loss:  tensor(5.9507, grad_fn=<MseLossBackward>)\n",
            "Training loss:  tensor(5.9157, grad_fn=<MseLossBackward>)\n",
            "Training loss:  tensor(5.8854, grad_fn=<MseLossBackward>)\n",
            "Training loss:  tensor(5.8538, grad_fn=<MseLossBackward>)\n",
            "Training loss:  tensor(5.8217, grad_fn=<MseLossBackward>)\n",
            "Training loss:  tensor(5.7903, grad_fn=<MseLossBackward>)\n",
            "Training loss:  tensor(5.7682, grad_fn=<MseLossBackward>)\n",
            "Training loss:  tensor(5.7297, grad_fn=<MseLossBackward>)\n",
            "Training loss:  tensor(5.7001, grad_fn=<MseLossBackward>)\n",
            "Training loss:  tensor(5.6713, grad_fn=<MseLossBackward>)\n",
            "Training loss:  tensor(5.6399, grad_fn=<MseLossBackward>)\n",
            "Training loss:  tensor(5.6117, grad_fn=<MseLossBackward>)\n",
            "Training loss:  tensor(5.5817, grad_fn=<MseLossBackward>)\n",
            "Training loss:  tensor(5.5526, grad_fn=<MseLossBackward>)\n",
            "Training loss:  tensor(5.5271, grad_fn=<MseLossBackward>)\n",
            "Training loss:  tensor(5.5198, grad_fn=<MseLossBackward>)\n",
            "Training loss:  tensor(5.4803, grad_fn=<MseLossBackward>)\n",
            "Training loss:  tensor(5.4396, grad_fn=<MseLossBackward>)\n",
            "Training loss:  tensor(5.4102, grad_fn=<MseLossBackward>)\n",
            "Training loss:  tensor(5.3797, grad_fn=<MseLossBackward>)\n",
            "Training loss:  tensor(5.3562, grad_fn=<MseLossBackward>)\n",
            "Training loss:  tensor(5.3243, grad_fn=<MseLossBackward>)\n",
            "Training loss:  tensor(5.3006, grad_fn=<MseLossBackward>)\n",
            "Training loss:  tensor(5.2736, grad_fn=<MseLossBackward>)\n",
            "Training loss:  tensor(5.2438, grad_fn=<MseLossBackward>)\n",
            "Training loss:  tensor(5.2147, grad_fn=<MseLossBackward>)\n",
            "Training loss:  tensor(5.1881, grad_fn=<MseLossBackward>)\n",
            "Training loss:  tensor(5.1613, grad_fn=<MseLossBackward>)\n",
            "Training loss:  tensor(5.1346, grad_fn=<MseLossBackward>)\n",
            "Training loss:  tensor(5.1148, grad_fn=<MseLossBackward>)\n",
            "Training loss:  tensor(5.0822, grad_fn=<MseLossBackward>)\n",
            "Training loss:  tensor(5.0558, grad_fn=<MseLossBackward>)\n",
            "Training loss:  tensor(5.0291, grad_fn=<MseLossBackward>)\n",
            "Training loss:  tensor(5.0040, grad_fn=<MseLossBackward>)\n",
            "Training loss:  tensor(4.9786, grad_fn=<MseLossBackward>)\n",
            "Training loss:  tensor(4.9528, grad_fn=<MseLossBackward>)\n",
            "Training loss:  tensor(4.9293, grad_fn=<MseLossBackward>)\n",
            "Training loss:  tensor(4.9019, grad_fn=<MseLossBackward>)\n",
            "Training loss:  tensor(4.8772, grad_fn=<MseLossBackward>)\n",
            "Training loss:  tensor(4.8530, grad_fn=<MseLossBackward>)\n",
            "Training loss:  tensor(4.8278, grad_fn=<MseLossBackward>)\n",
            "Training loss:  tensor(4.8048, grad_fn=<MseLossBackward>)\n",
            "Training loss:  tensor(4.7789, grad_fn=<MseLossBackward>)\n",
            "Training loss:  tensor(4.7565, grad_fn=<MseLossBackward>)\n",
            "Training loss:  tensor(4.7324, grad_fn=<MseLossBackward>)\n",
            "Training loss:  tensor(4.7090, grad_fn=<MseLossBackward>)\n",
            "Training loss:  tensor(4.6820, grad_fn=<MseLossBackward>)\n",
            "CPU times: user 417 ms, sys: 51.5 ms, total: 468 ms\n",
            "Wall time: 423 ms\n"
          ],
          "name": "stdout"
        }
      ]
    },
    {
      "cell_type": "code",
      "metadata": {
        "trusted": true,
        "_uuid": "32588a47d0478772a1f08fa55874a322630bd0b6",
        "id": "OrsdfWGNLOzm",
        "colab": {
          "base_uri": "https://localhost:8080/"
        },
        "outputId": "415b2ba7-8c48-4d65-c4d3-f95e54db34f3"
      },
      "source": [
        "# Generate predictions\n",
        "preds = model(inputs)\n",
        "preds"
      ],
      "execution_count": null,
      "outputs": [
        {
          "output_type": "execute_result",
          "data": {
            "text/plain": [
              "tensor([[ 57.3085,  70.5428],\n",
              "        [ 80.7028,  99.4206],\n",
              "        [122.0018, 135.5148],\n",
              "        [ 22.1687,  37.9066],\n",
              "        [ 98.5571, 116.4890],\n",
              "        [ 57.3085,  70.5428],\n",
              "        [ 80.7028,  99.4206],\n",
              "        [122.0018, 135.5148],\n",
              "        [ 22.1687,  37.9066],\n",
              "        [ 98.5571, 116.4890],\n",
              "        [ 57.3085,  70.5428],\n",
              "        [ 80.7028,  99.4206],\n",
              "        [122.0018, 135.5148],\n",
              "        [ 22.1687,  37.9066],\n",
              "        [ 98.5571, 116.4890]], grad_fn=<AddmmBackward>)"
            ]
          },
          "metadata": {
            "tags": []
          },
          "execution_count": 102
        }
      ]
    },
    {
      "cell_type": "code",
      "metadata": {
        "trusted": true,
        "_uuid": "12d757c0f37c2e3af65cf9d4b59878cc10c65acf",
        "id": "4OFrfkJJLOzq",
        "colab": {
          "base_uri": "https://localhost:8080/"
        },
        "outputId": "63c66aa1-b104-4f58-82d1-a0237501caf5"
      },
      "source": [
        "# Compare with targets\n",
        "targets"
      ],
      "execution_count": null,
      "outputs": [
        {
          "output_type": "execute_result",
          "data": {
            "text/plain": [
              "tensor([[ 56.,  70.],\n",
              "        [ 81., 101.],\n",
              "        [119., 133.],\n",
              "        [ 22.,  37.],\n",
              "        [103., 119.],\n",
              "        [ 56.,  70.],\n",
              "        [ 81., 101.],\n",
              "        [119., 133.],\n",
              "        [ 22.,  37.],\n",
              "        [103., 119.],\n",
              "        [ 56.,  70.],\n",
              "        [ 81., 101.],\n",
              "        [119., 133.],\n",
              "        [ 22.,  37.],\n",
              "        [103., 119.]])"
            ]
          },
          "metadata": {
            "tags": []
          },
          "execution_count": 104
        }
      ]
    },
    {
      "cell_type": "markdown",
      "metadata": {
        "_uuid": "e182289ebf21d8296f11f13264c4732c100da14f",
        "id": "r2Gwo0goLOzx"
      },
      "source": [
        "# Feedfoward Neural Network\n",
        "\n",
        "![ffnn](https://upload.wikimedia.org/wikipedia/commons/thumb/0/00/Multi-Layer_Neural_Network-Vector-Blank.svg/400px-Multi-Layer_Neural_Network-Vector-Blank.svg.png)\n",
        "\n",
        "Conceptually, you think of feedforward neural networks as two or more linear regression models stacked on top of one another with a non-linear activation function applied between them.\n",
        "\n",
        "<img src=\"https://cdn-images-1.medium.com/max/1600/1*XxxiA0jJvPrHEJHD4z893g.png\" width=\"640\">\n",
        "\n",
        "To use a feedforward neural network instead of linear regression, we can extend the `nn.Module` class from PyTorch."
      ]
    },
    {
      "cell_type": "code",
      "metadata": {
        "trusted": true,
        "_uuid": "c405e5075d6c4adb26ead75c17be90eaeb43f2d5",
        "id": "Y6RgUeI5LOzy"
      },
      "source": [
        "class SimpleNet(nn.Module):\n",
        "    # Initialize the layers\n",
        "    def __init__(self):\n",
        "        super().__init__()\n",
        "        self.linear1 = nn.Linear(3, 6)\n",
        "        self.act1 = nn.ReLU() # Activation function\n",
        "        self.linear2 = nn.Linear(6, 8)\n",
        "        self.act2 = nn.ReLU() # Activation function\n",
        "        self.linear3 = nn.Linear(8, 2)\n",
        "    \n",
        "    # Perform the computation\n",
        "    def forward(self, x):\n",
        "        x = self.linear1(x)\n",
        "        x = self.act1(x)\n",
        "        x = self.linear2(x)\n",
        "        x = self.act2(x)\n",
        "        x = self.linear3(x)\n",
        "        return x"
      ],
      "execution_count": null,
      "outputs": []
    },
    {
      "cell_type": "markdown",
      "metadata": {
        "_uuid": "2448d9832722f4f2813f8bd80b91daefd901dc2e",
        "id": "8xc3IzZPLOz3"
      },
      "source": [
        "Now we can define the model, optimizer and loss function exactly as before."
      ]
    },
    {
      "cell_type": "code",
      "metadata": {
        "trusted": true,
        "_uuid": "a51ca222c2ea037c3caccaeab98ccdbcc30800cf",
        "id": "4hUQm2RQLOz6"
      },
      "source": [
        "model = SimpleNet()\n",
        "opt = torch.optim.SGD(model.parameters(), 1e-5)\n",
        "loss_fn = F.mse_loss"
      ],
      "execution_count": null,
      "outputs": []
    },
    {
      "cell_type": "code",
      "metadata": {
        "colab": {
          "base_uri": "https://localhost:8080/"
        },
        "id": "0Gg14PSuhj-q",
        "outputId": "9764b20b-4383-41fe-8544-59e19bd46139"
      },
      "source": [
        "model.parameters"
      ],
      "execution_count": null,
      "outputs": [
        {
          "output_type": "execute_result",
          "data": {
            "text/plain": [
              "<bound method Module.parameters of SimpleNet(\n",
              "  (linear1): Linear(in_features=3, out_features=6, bias=True)\n",
              "  (act1): ReLU()\n",
              "  (linear2): Linear(in_features=6, out_features=8, bias=True)\n",
              "  (act2): ReLU()\n",
              "  (linear3): Linear(in_features=8, out_features=2, bias=True)\n",
              ")>"
            ]
          },
          "metadata": {
            "tags": []
          },
          "execution_count": 107
        }
      ]
    },
    {
      "cell_type": "markdown",
      "metadata": {
        "_uuid": "21000c9739ea39a173a256f87339bfc112c1a9b0",
        "id": "PqGsq9r1LO0O"
      },
      "source": [
        "Finally, we can apply gradient descent to train the model using the same `fit` function defined earlier for linear regression.\n",
        "\n",
        "<img src=\"https://i.imgur.com/g7Rl0r8.png\" width=\"500\">"
      ]
    },
    {
      "cell_type": "code",
      "metadata": {
        "trusted": true,
        "_uuid": "e94de6868c76803a998c1c1934ed229c826f3b8c",
        "id": "55poTb_6LO0Q",
        "colab": {
          "base_uri": "https://localhost:8080/"
        },
        "outputId": "9792abb5-2e37-42e7-bcdd-bd245c315d75"
      },
      "source": [
        "%%time\n",
        "fit(100, model, loss_fn, opt)"
      ],
      "execution_count": null,
      "outputs": [
        {
          "output_type": "stream",
          "text": [
            "Training loss:  tensor(25.6888, grad_fn=<MseLossBackward>)\n",
            "Training loss:  tensor(25.6330, grad_fn=<MseLossBackward>)\n",
            "Training loss:  tensor(27.8566, grad_fn=<MseLossBackward>)\n",
            "Training loss:  tensor(27.7698, grad_fn=<MseLossBackward>)\n",
            "Training loss:  tensor(27.0191, grad_fn=<MseLossBackward>)\n",
            "Training loss:  tensor(25.0184, grad_fn=<MseLossBackward>)\n",
            "Training loss:  tensor(25.8001, grad_fn=<MseLossBackward>)\n",
            "Training loss:  tensor(24.6900, grad_fn=<MseLossBackward>)\n",
            "Training loss:  tensor(22.9712, grad_fn=<MseLossBackward>)\n",
            "Training loss:  tensor(22.7177, grad_fn=<MseLossBackward>)\n",
            "Training loss:  tensor(27.7435, grad_fn=<MseLossBackward>)\n",
            "Training loss:  tensor(22.2492, grad_fn=<MseLossBackward>)\n",
            "Training loss:  tensor(22.2941, grad_fn=<MseLossBackward>)\n",
            "Training loss:  tensor(21.6033, grad_fn=<MseLossBackward>)\n",
            "Training loss:  tensor(21.1971, grad_fn=<MseLossBackward>)\n",
            "Training loss:  tensor(21.9762, grad_fn=<MseLossBackward>)\n",
            "Training loss:  tensor(21.0799, grad_fn=<MseLossBackward>)\n",
            "Training loss:  tensor(21.5699, grad_fn=<MseLossBackward>)\n",
            "Training loss:  tensor(21.6417, grad_fn=<MseLossBackward>)\n",
            "Training loss:  tensor(22.2328, grad_fn=<MseLossBackward>)\n",
            "Training loss:  tensor(20.5065, grad_fn=<MseLossBackward>)\n",
            "Training loss:  tensor(19.3828, grad_fn=<MseLossBackward>)\n",
            "Training loss:  tensor(21.0173, grad_fn=<MseLossBackward>)\n",
            "Training loss:  tensor(19.8621, grad_fn=<MseLossBackward>)\n",
            "Training loss:  tensor(18.5531, grad_fn=<MseLossBackward>)\n",
            "Training loss:  tensor(18.2419, grad_fn=<MseLossBackward>)\n",
            "Training loss:  tensor(18.8421, grad_fn=<MseLossBackward>)\n",
            "Training loss:  tensor(17.7886, grad_fn=<MseLossBackward>)\n",
            "Training loss:  tensor(17.5823, grad_fn=<MseLossBackward>)\n",
            "Training loss:  tensor(19.1728, grad_fn=<MseLossBackward>)\n",
            "Training loss:  tensor(17.1092, grad_fn=<MseLossBackward>)\n",
            "Training loss:  tensor(17.1357, grad_fn=<MseLossBackward>)\n",
            "Training loss:  tensor(18.3997, grad_fn=<MseLossBackward>)\n",
            "Training loss:  tensor(21.5954, grad_fn=<MseLossBackward>)\n",
            "Training loss:  tensor(18.4019, grad_fn=<MseLossBackward>)\n",
            "Training loss:  tensor(16.6990, grad_fn=<MseLossBackward>)\n",
            "Training loss:  tensor(15.9381, grad_fn=<MseLossBackward>)\n",
            "Training loss:  tensor(15.7292, grad_fn=<MseLossBackward>)\n",
            "Training loss:  tensor(18.8677, grad_fn=<MseLossBackward>)\n",
            "Training loss:  tensor(16.6347, grad_fn=<MseLossBackward>)\n",
            "Training loss:  tensor(15.3296, grad_fn=<MseLossBackward>)\n",
            "Training loss:  tensor(14.8042, grad_fn=<MseLossBackward>)\n",
            "Training loss:  tensor(19.6914, grad_fn=<MseLossBackward>)\n",
            "Training loss:  tensor(14.5696, grad_fn=<MseLossBackward>)\n",
            "Training loss:  tensor(14.7015, grad_fn=<MseLossBackward>)\n",
            "Training loss:  tensor(15.0102, grad_fn=<MseLossBackward>)\n",
            "Training loss:  tensor(13.9657, grad_fn=<MseLossBackward>)\n",
            "Training loss:  tensor(15.0110, grad_fn=<MseLossBackward>)\n",
            "Training loss:  tensor(13.5189, grad_fn=<MseLossBackward>)\n",
            "Training loss:  tensor(14.0533, grad_fn=<MseLossBackward>)\n",
            "Training loss:  tensor(14.6517, grad_fn=<MseLossBackward>)\n",
            "Training loss:  tensor(13.6854, grad_fn=<MseLossBackward>)\n",
            "Training loss:  tensor(14.2073, grad_fn=<MseLossBackward>)\n",
            "Training loss:  tensor(13.1714, grad_fn=<MseLossBackward>)\n",
            "Training loss:  tensor(14.0785, grad_fn=<MseLossBackward>)\n",
            "Training loss:  tensor(12.4914, grad_fn=<MseLossBackward>)\n",
            "Training loss:  tensor(12.1221, grad_fn=<MseLossBackward>)\n",
            "Training loss:  tensor(12.0796, grad_fn=<MseLossBackward>)\n",
            "Training loss:  tensor(12.3576, grad_fn=<MseLossBackward>)\n",
            "Training loss:  tensor(12.2309, grad_fn=<MseLossBackward>)\n",
            "Training loss:  tensor(11.5821, grad_fn=<MseLossBackward>)\n",
            "Training loss:  tensor(11.9826, grad_fn=<MseLossBackward>)\n",
            "Training loss:  tensor(11.2676, grad_fn=<MseLossBackward>)\n",
            "Training loss:  tensor(11.1078, grad_fn=<MseLossBackward>)\n",
            "Training loss:  tensor(11.1481, grad_fn=<MseLossBackward>)\n",
            "Training loss:  tensor(13.4907, grad_fn=<MseLossBackward>)\n",
            "Training loss:  tensor(10.9713, grad_fn=<MseLossBackward>)\n",
            "Training loss:  tensor(12.9929, grad_fn=<MseLossBackward>)\n",
            "Training loss:  tensor(11.5254, grad_fn=<MseLossBackward>)\n",
            "Training loss:  tensor(10.2976, grad_fn=<MseLossBackward>)\n",
            "Training loss:  tensor(10.2592, grad_fn=<MseLossBackward>)\n",
            "Training loss:  tensor(12.1890, grad_fn=<MseLossBackward>)\n",
            "Training loss:  tensor(11.1693, grad_fn=<MseLossBackward>)\n",
            "Training loss:  tensor(10.3328, grad_fn=<MseLossBackward>)\n",
            "Training loss:  tensor(10.1677, grad_fn=<MseLossBackward>)\n",
            "Training loss:  tensor(10.0237, grad_fn=<MseLossBackward>)\n",
            "Training loss:  tensor(9.4745, grad_fn=<MseLossBackward>)\n",
            "Training loss:  tensor(9.3921, grad_fn=<MseLossBackward>)\n",
            "Training loss:  tensor(9.4257, grad_fn=<MseLossBackward>)\n",
            "Training loss:  tensor(9.1539, grad_fn=<MseLossBackward>)\n",
            "Training loss:  tensor(9.2963, grad_fn=<MseLossBackward>)\n",
            "Training loss:  tensor(8.9407, grad_fn=<MseLossBackward>)\n",
            "Training loss:  tensor(12.5195, grad_fn=<MseLossBackward>)\n",
            "Training loss:  tensor(8.7413, grad_fn=<MseLossBackward>)\n",
            "Training loss:  tensor(8.6450, grad_fn=<MseLossBackward>)\n",
            "Training loss:  tensor(8.6958, grad_fn=<MseLossBackward>)\n",
            "Training loss:  tensor(8.4593, grad_fn=<MseLossBackward>)\n",
            "Training loss:  tensor(8.4298, grad_fn=<MseLossBackward>)\n",
            "Training loss:  tensor(8.2719, grad_fn=<MseLossBackward>)\n",
            "Training loss:  tensor(8.3224, grad_fn=<MseLossBackward>)\n",
            "Training loss:  tensor(8.3914, grad_fn=<MseLossBackward>)\n",
            "Training loss:  tensor(8.0101, grad_fn=<MseLossBackward>)\n",
            "Training loss:  tensor(7.9157, grad_fn=<MseLossBackward>)\n",
            "Training loss:  tensor(8.4651, grad_fn=<MseLossBackward>)\n",
            "Training loss:  tensor(7.8692, grad_fn=<MseLossBackward>)\n",
            "Training loss:  tensor(8.9548, grad_fn=<MseLossBackward>)\n",
            "Training loss:  tensor(7.5759, grad_fn=<MseLossBackward>)\n",
            "Training loss:  tensor(7.8225, grad_fn=<MseLossBackward>)\n",
            "Training loss:  tensor(8.5727, grad_fn=<MseLossBackward>)\n",
            "Training loss:  tensor(7.3312, grad_fn=<MseLossBackward>)\n",
            "CPU times: user 317 ms, sys: 25.2 ms, total: 342 ms\n",
            "Wall time: 313 ms\n"
          ],
          "name": "stdout"
        }
      ]
    },
    {
      "cell_type": "markdown",
      "metadata": {
        "id": "tqAZDn1CaWIo"
      },
      "source": [
        "# Slightly Advanced"
      ]
    },
    {
      "cell_type": "code",
      "metadata": {
        "id": "_lBYV3RHaZNr",
        "colab": {
          "base_uri": "https://localhost:8080/",
          "height": 54
        },
        "outputId": "0423902b-a5be-480e-d41b-b0ac9fe56c15"
      },
      "source": [
        "import numpy as np\n",
        "\n",
        "# N is batch size; D_in is input dimension;\n",
        "# H is hidden dimension; D_out is output dimension.\n",
        "N, D_in, H, D_out = 64, 1000, 100, 10\n",
        "\n",
        "# Create random input and output data\n",
        "x = np.random.randn(N, D_in)\n",
        "y = np.random.randn(N, D_out)\n",
        "print(f\"Shape of X: {x.shape} \")\n",
        "print(f\"Shape of Y: {y.shape} \")\n",
        "\n",
        "\n",
        "'''\n",
        "1\n",
        ".\n",
        ".\n",
        "x          1\n",
        "x          .\n",
        "x          y\n",
        "x         ..\n",
        "x          10\n",
        ".\n",
        "1000\n",
        "'''"
      ],
      "execution_count": null,
      "outputs": [
        {
          "output_type": "stream",
          "text": [
            "Shape of X: (64, 1000) \n",
            "Shape of Y: (64, 10) \n"
          ],
          "name": "stdout"
        }
      ]
    },
    {
      "cell_type": "code",
      "metadata": {
        "id": "IEjU6QiNaZbC"
      },
      "source": [
        "# Randomly initialize weights\n",
        "w1 = np.random.randn(D_in, H)\n",
        "w2 = np.random.randn(H, D_out)\n",
        "learning_rate = 1e-6"
      ],
      "execution_count": null,
      "outputs": []
    },
    {
      "cell_type": "code",
      "metadata": {
        "id": "ksDK-5GxaZru"
      },
      "source": [
        "for t in range(500):\n",
        "    # Forward pass: compute predicted y\n",
        "    h = x.dot(w1)\n",
        "    h_relu = np.maximum(h, 0)\n",
        "    y_pred = h_relu.dot(w2)\n",
        "\n",
        "    # Compute and print loss\n",
        "    loss = np.square(y_pred - y).sum()  #Sum of squared distance\n",
        "    print(t, loss)\n",
        "\n",
        "    # Backprop to compute gradients of w1 and w2 with respect to loss\n",
        "    # http://www.adeveloperdiary.com/data-science/machine-learning/understand-and-implement-the-backpropagation-algorithm-from-scratch-in-python/\n",
        "\n",
        "\n",
        "    grad_y_pred = 2.0 * (y_pred - y)  # Gradient of Loss function 2*x\n",
        "    grad_w2 = h_relu.T.dot(grad_y_pred) # Gradient of Loss function 2*x\n",
        "    grad_h_relu = grad_y_pred.dot(w2.T)\n",
        "    grad_h = grad_h_relu.copy()\n",
        "    grad_h[h < 0] = 0\n",
        "    grad_w1 = x.T.dot(grad_h)\n",
        "\n",
        "    # Update weights\n",
        "    w1 -= learning_rate * grad_w1\n",
        "    w2 -= learning_rate * grad_w2"
      ],
      "execution_count": null,
      "outputs": []
    },
    {
      "cell_type": "code",
      "metadata": {
        "id": "ZcfFzPppaZo-"
      },
      "source": [],
      "execution_count": null,
      "outputs": []
    },
    {
      "cell_type": "code",
      "metadata": {
        "id": "gK0ihhdyaZm3"
      },
      "source": [],
      "execution_count": null,
      "outputs": []
    },
    {
      "cell_type": "code",
      "metadata": {
        "id": "_dKgSv9maZkm"
      },
      "source": [],
      "execution_count": null,
      "outputs": []
    },
    {
      "cell_type": "code",
      "metadata": {
        "id": "t9m6Qka3aZiM"
      },
      "source": [],
      "execution_count": null,
      "outputs": []
    },
    {
      "cell_type": "code",
      "metadata": {
        "id": "gc1fPrfTaZgo"
      },
      "source": [],
      "execution_count": null,
      "outputs": []
    },
    {
      "cell_type": "code",
      "metadata": {
        "id": "UpAOr3L7aZeb"
      },
      "source": [],
      "execution_count": null,
      "outputs": []
    }
  ]
}